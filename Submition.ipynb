{
  "nbformat": 4,
  "nbformat_minor": 0,
  "metadata": {
    "colab": {
      "name": "Submition.ipynb",
      "provenance": [],
      "collapsed_sections": [],
      "mount_file_id": "1lUFR1Sc01FnGGU-Hjj6wDTDx9Q1e-VPI",
      "authorship_tag": "ABX9TyO6bReplAMHW6PV4XyVv5Oh",
      "include_colab_link": true
    },
    "kernelspec": {
      "name": "python3",
      "display_name": "Python 3"
    }
  },
  "cells": [
    {
      "cell_type": "markdown",
      "metadata": {
        "id": "view-in-github",
        "colab_type": "text"
      },
      "source": [
        "<a href=\"https://colab.research.google.com/github/Kaustubh-Atey/AI-Champ-Marathon-Tasks/blob/master/Submition.ipynb\" target=\"_parent\"><img src=\"https://colab.research.google.com/assets/colab-badge.svg\" alt=\"Open In Colab\"/></a>"
      ]
    },
    {
      "cell_type": "markdown",
      "metadata": {
        "id": "NxPcv7V9_dtf",
        "colab_type": "text"
      },
      "source": [
        "## **Task 1**"
      ]
    },
    {
      "cell_type": "markdown",
      "metadata": {
        "id": "7fNqFKYw_iG8",
        "colab_type": "text"
      },
      "source": [
        "The LinkedIn profiles of 50 random people are downloaded and stored in the folder named: **PDF Files**"
      ]
    },
    {
      "cell_type": "code",
      "metadata": {
        "id": "aH6O-ApV_MxJ",
        "colab_type": "code",
        "colab": {}
      },
      "source": [
        "# Give the path of the folder containing the PDFs below\n",
        "folder_path = '/content/drive/My Drive/Colab Notebooks (1)/Articles/AI Champ Marathon/PDF Files'"
      ],
      "execution_count": 167,
      "outputs": []
    },
    {
      "cell_type": "markdown",
      "metadata": {
        "id": "qXmF5OybAET-",
        "colab_type": "text"
      },
      "source": [
        "## **Task 2**"
      ]
    },
    {
      "cell_type": "markdown",
      "metadata": {
        "id": "edWbartZAdLd",
        "colab_type": "text"
      },
      "source": [
        "I have used the **textract** library, to extract the text from the downloaded PDFs."
      ]
    },
    {
      "cell_type": "code",
      "metadata": {
        "id": "EGJ1UiZVAQD-",
        "colab_type": "code",
        "colab": {}
      },
      "source": [
        "# Install textract library\n",
        "!pip install textract"
      ],
      "execution_count": null,
      "outputs": []
    },
    {
      "cell_type": "code",
      "metadata": {
        "id": "Q5l_wVLWAP77",
        "colab_type": "code",
        "colab": {}
      },
      "source": [
        "import numpy as np\n",
        "import os\n",
        "import csv\n",
        "import textract"
      ],
      "execution_count": 182,
      "outputs": []
    },
    {
      "cell_type": "code",
      "metadata": {
        "id": "cnv8AW7pBkNv",
        "colab_type": "code",
        "colab": {}
      },
      "source": [
        "# This function extracts the text from the PDFs using textract library\n",
        "# The extracted text is stored to a csv file named: 'CSV_file.csv'\n",
        "\n",
        "def extract_to_csv(folder_path):\n",
        "  index = 0\n",
        "  for file in os.listdir(folder_path):\n",
        "    if file.endswith('.pdf'):\n",
        "      file_path = folder_path + '/' + file\n",
        "      text = textract.process(file_path)\n",
        "      content = text.decode(\"utf-8\")\n",
        "\n",
        "      with open('CSV_file.csv', 'a+', newline='') as csv_file:\n",
        "        csv_writer = csv.writer(csv_file, delimiter=',', quotechar='\"', quoting=csv.QUOTE_MINIMAL)\n",
        "        csv_writer.writerow([index, content])\n",
        "  \n",
        "      index += 1"
      ],
      "execution_count": 183,
      "outputs": []
    },
    {
      "cell_type": "code",
      "metadata": {
        "id": "8vUCJmUeCSLs",
        "colab_type": "code",
        "colab": {}
      },
      "source": [
        "extract_to_csv(folder_path)"
      ],
      "execution_count": 184,
      "outputs": []
    },
    {
      "cell_type": "code",
      "metadata": {
        "id": "2SmLF0SwCXds",
        "colab_type": "code",
        "colab": {
          "base_uri": "https://localhost:8080/",
          "height": 886
        },
        "outputId": "eb8cc6a8-bb39-4dda-e683-7b0fa88791d0"
      },
      "source": [
        "# Checking the created csv file \n",
        "import pandas as pd\n",
        "data = pd.read_csv(\"/content/CSV_file.csv\", header=None) \n",
        "print(f'There are {len(data)} rows in the csv file')\n",
        "print(data)"
      ],
      "execution_count": 185,
      "outputs": [
        {
          "output_type": "stream",
          "text": [
            "There are 50 rows in the csv file\n",
            "     0                                                  1\n",
            "0    0   \\n\\n \\n\\n \\n\\nContact\\n\\nwww.linkedin.com/in/...\n",
            "1    1  Contact\\n\\nwww.linkedin.com/in/melindagates\\n(...\n",
            "2    2  Contact\\n\\nwww.linkedin.com/in/jimyongkim\\n(Li...\n",
            "3    3   \\n\\n \\n\\n \\n\\nContact\\n\\nwww.linkedin.com/in/...\n",
            "4    4   \\n\\n \\n\\n \\n\\nContact\\n\\nwww.linkedin.com/in/...\n",
            "5    5   \\n\\n \\n\\n \\n\\nContact\\n\\nwww.linkedin.com/in/...\n",
            "6    6   \\n\\n \\n\\n \\n\\nContact\\n\\nwww.linkedin.com/in/...\n",
            "7    7  Contact\\n\\nwww.linkedin.com/in/\\njoeyexp-9ab31...\n",
            "8    8   \\n\\n \\n\\nContact\\n\\nwww.linkedin.com/in/satya...\n",
            "9    9   \\n\\n \\n\\nContact\\n\\nwww.linkedin.com/in/jessi...\n",
            "10  10  Contact\\n\\nwww.linkedin.com/in/gwyneth-\\npaltr...\n",
            "11  11  Contact\\n\\nwww.linkedin.com/in/\\nariannahuffin...\n",
            "12  12  Contact\\n\\nwww.linkedin.com/in/owinfrey\\n(Link...\n",
            "13  13   \\n\\n \\n\\n \\n\\nContact\\n\\nwww.linkedin.com/in/...\n",
            "14  14   \\n\\n \\n\\n \\n\\nContact\\n\\nwww.linkedin.com/in/...\n",
            "15  15  Contact\\n\\nwww.linkedin.com/in/\\nrandizuckerbe...\n",
            "16  16  Contact\\n\\nwww.linkedin.com/in/\\nmikebloomberg...\n",
            "17  17   \\n\\n \\n\\n \\n\\nContact\\n\\nwww.linkedin.com/in/...\n",
            "18  18  Contact\\n\\nwww.linkedin.com/in/mkbhd\\n(LinkedI...\n",
            "19  19   \\n\\n \\n\\n \\n\\nContact\\n\\nwww.linkedin.com/in/...\n",
            "20  20   \\n\\n \\n\\n \\n\\nContact\\n\\nwww.linkedin.com/in/...\n",
            "21  21   \\n\\n \\n\\nContact\\n\\nwww.linkedin.com/in/prisc...\n",
            "22  22   \\n\\n \\n\\n \\n\\nContact\\n\\nwww.linkedin.com/in/...\n",
            "23  23   \\n\\n \\n\\n \\n\\nContact\\n\\nwww.linkedin.com/in/...\n",
            "24  24  Contact\\n\\nwww.linkedin.com/in/linustorvalds\\n...\n",
            "25  25   \\n\\n \\n\\n \\n\\nContact\\n\\nwww.linkedin.com/in/...\n",
            "26  26   \\n\\n \\n\\nContact\\n\\nwww.linkedin.com/in/andre...\n",
            "27  27   \\n\\n \\n\\n \\n\\nContact\\n\\nwww.linkedin.com/in/...\n",
            "28  28  Contact\\n\\nwww.linkedin.com/in/aishwarya-\\nsri...\n",
            "29  29  Contact\\n\\nwww.linkedin.com/in/andrewyng\\n(Lin...\n",
            "30  30   \\n\\n \\n\\n \\n\\nContact\\n\\nwww.linkedin.com/in/...\n",
            "31  31   \\n\\n \\n\\n \\n\\nContact\\n\\nwww.linkedin.com/in/...\n",
            "32  32  Contact\\n\\nwww.linkedin.com/in/anima-\\nanandku...\n",
            "33  33   \\n\\n \\n\\n \\n\\nContact\\n\\nwww.linkedin.com/in/...\n",
            "34  34  Contact\\n\\nwww.linkedin.com/in/yann-\\nlecun-0b...\n",
            "35  35  Contact\\n\\nwww.linkedin.com/in/jeff-\\ndean-8b2...\n",
            "36  36   \\n\\n \\n\\nContact\\n\\nwww.linkedin.com/in/andre...\n",
            "37  37  Contact\\n\\nwww.linkedin.com/in/balamanohar\\n(L...\n",
            "38  38  Contact\\n\\nwww.linkedin.com/in/lisadbarnett\\n(...\n",
            "39  39   \\n\\n \\n\\n \\n\\nContact\\n\\nwww.linkedin.com/in/...\n",
            "40  40   \\n\\n \\n\\nContact\\n\\nwww.linkedin.com/in/lori-...\n",
            "41  41  Contact\\n\\nwww.linkedin.com/in/rohita-\\njoshi-...\n",
            "42  42  Contact\\n\\nwww.linkedin.com/in/lisadbarnett\\n(...\n",
            "43  43  Contact\\n\\nwww.linkedin.com/in/parag-\\nagrawal...\n",
            "44  44   \\n\\n \\n\\n \\n\\nContact\\n\\nwww.linkedin.com/in/...\n",
            "45  45  Contact\\n\\nwww.linkedin.com/in/alliekmiller\\n(...\n",
            "46  46  Contact\\n\\nwww.linkedin.com/in/egsands\\n(Linke...\n",
            "47  47  Contact\\n\\nwww.linkedin.com/in/narendramodi\\n(...\n",
            "48  48  Contact\\npriyanjitkumarghosh@gmail.c\\nom\\n\\nww...\n",
            "49  49  Contact\\n\\nwww.linkedin.com/in/tarrysingh\\n(Li...\n"
          ],
          "name": "stdout"
        }
      ]
    },
    {
      "cell_type": "code",
      "metadata": {
        "id": "zd3E99VMDhJU",
        "colab_type": "code",
        "colab": {}
      },
      "source": [
        ""
      ],
      "execution_count": 185,
      "outputs": []
    },
    {
      "cell_type": "markdown",
      "metadata": {
        "id": "DOa4l4r4EKXl",
        "colab_type": "text"
      },
      "source": [
        "## **Task 3**"
      ]
    },
    {
      "cell_type": "markdown",
      "metadata": {
        "id": "7o8AmehqbuXr",
        "colab_type": "text"
      },
      "source": [
        "I have used the **nltk** library to preprocess and clean the text data.<br>\n",
        "The stop words, punctuation marks, and other symbols are removed from the texts. <br>\n",
        "\n",
        "\n"
      ]
    },
    {
      "cell_type": "code",
      "metadata": {
        "id": "K1KPESGpEJ5c",
        "colab_type": "code",
        "colab": {}
      },
      "source": [
        "import re                                \n",
        "import random\n",
        "import string\n",
        "                \n",
        "import nltk  \n",
        "from nltk.corpus import stopwords         \n",
        "from nltk.tokenize import TweetTokenizer"
      ],
      "execution_count": 196,
      "outputs": []
    },
    {
      "cell_type": "code",
      "metadata": {
        "id": "lmI0B84rGBjE",
        "colab_type": "code",
        "colab": {
          "base_uri": "https://localhost:8080/",
          "height": 67
        },
        "outputId": "02846788-b895-4986-8262-3e3e454f9d20"
      },
      "source": [
        "# Download the stopwords \n",
        "nltk.download('stopwords')"
      ],
      "execution_count": 197,
      "outputs": [
        {
          "output_type": "stream",
          "text": [
            "[nltk_data] Downloading package stopwords to /root/nltk_data...\n",
            "[nltk_data]   Package stopwords is already up-to-date!\n"
          ],
          "name": "stdout"
        },
        {
          "output_type": "execute_result",
          "data": {
            "text/plain": [
              "True"
            ]
          },
          "metadata": {
            "tags": []
          },
          "execution_count": 197
        }
      ]
    },
    {
      "cell_type": "code",
      "metadata": {
        "id": "Zfz_FgrhEJ2u",
        "colab_type": "code",
        "colab": {
          "base_uri": "https://localhost:8080/",
          "height": 154
        },
        "outputId": "bec6bab0-6ba5-461f-aad8-b7a70d3eac81"
      },
      "source": [
        "stopwords_english = stopwords.words('english')          # Get stopwords for English\n",
        "\n",
        "print('Stop words:\\n')\n",
        "print(stopwords_english)\n",
        "\n",
        "print('\\nPunctuations:\\n')\n",
        "print(string.punctuation)                              # Common Punctuation Marks"
      ],
      "execution_count": 198,
      "outputs": [
        {
          "output_type": "stream",
          "text": [
            "Stop words:\n",
            "\n",
            "['i', 'me', 'my', 'myself', 'we', 'our', 'ours', 'ourselves', 'you', \"you're\", \"you've\", \"you'll\", \"you'd\", 'your', 'yours', 'yourself', 'yourselves', 'he', 'him', 'his', 'himself', 'she', \"she's\", 'her', 'hers', 'herself', 'it', \"it's\", 'its', 'itself', 'they', 'them', 'their', 'theirs', 'themselves', 'what', 'which', 'who', 'whom', 'this', 'that', \"that'll\", 'these', 'those', 'am', 'is', 'are', 'was', 'were', 'be', 'been', 'being', 'have', 'has', 'had', 'having', 'do', 'does', 'did', 'doing', 'a', 'an', 'the', 'and', 'but', 'if', 'or', 'because', 'as', 'until', 'while', 'of', 'at', 'by', 'for', 'with', 'about', 'against', 'between', 'into', 'through', 'during', 'before', 'after', 'above', 'below', 'to', 'from', 'up', 'down', 'in', 'out', 'on', 'off', 'over', 'under', 'again', 'further', 'then', 'once', 'here', 'there', 'when', 'where', 'why', 'how', 'all', 'any', 'both', 'each', 'few', 'more', 'most', 'other', 'some', 'such', 'no', 'nor', 'not', 'only', 'own', 'same', 'so', 'than', 'too', 'very', 's', 't', 'can', 'will', 'just', 'don', \"don't\", 'should', \"should've\", 'now', 'd', 'll', 'm', 'o', 're', 've', 'y', 'ain', 'aren', \"aren't\", 'couldn', \"couldn't\", 'didn', \"didn't\", 'doesn', \"doesn't\", 'hadn', \"hadn't\", 'hasn', \"hasn't\", 'haven', \"haven't\", 'isn', \"isn't\", 'ma', 'mightn', \"mightn't\", 'mustn', \"mustn't\", 'needn', \"needn't\", 'shan', \"shan't\", 'shouldn', \"shouldn't\", 'wasn', \"wasn't\", 'weren', \"weren't\", 'won', \"won't\", 'wouldn', \"wouldn't\"]\n",
            "\n",
            "Punctuations:\n",
            "\n",
            "!\"#$%&'()*+,-./:;<=>?@[\\]^_`{|}~\n"
          ],
          "name": "stdout"
        }
      ]
    },
    {
      "cell_type": "code",
      "metadata": {
        "id": "4ZmPCSzKF5le",
        "colab_type": "code",
        "colab": {}
      },
      "source": [
        "# This function is used to preprocess and clean the list of words passes to it\n",
        "def preprocess_text(text):\n",
        "\n",
        "  text = re.sub(r'#*\\n*\"*,*’*·', '', text)                                      # Substiute [# \\n \" , ’ ·] symbols with blank space\n",
        "\n",
        "  text = re.sub(r'0*1*2*3*4*5*6*7*8*9*', '', text)                              # Substiute numbers symbols with blank space\n",
        "\n",
        "\n",
        "  tokenizer = TweetTokenizer(preserve_case=False, strip_handles=True,           # TweetTokenizer is used to tokenize and lowercase the words in the corpus\n",
        "                               reduce_len=True)\n",
        "  word_tokens = tokenizer.tokenize(text)\n",
        "\n",
        "  \n",
        "  words_clean = []\n",
        "  for word in word_tokens:\n",
        "    if (word not in stopwords_english and word not in string.punctuation):      # Removing the stopwords and punctuation marks from the word corpus\n",
        "      words_clean.append(word)\n",
        "\n",
        "  return words_clean"
      ],
      "execution_count": 199,
      "outputs": []
    },
    {
      "cell_type": "code",
      "metadata": {
        "id": "nhrI2yfWN7YM",
        "colab_type": "code",
        "colab": {}
      },
      "source": [
        "# Using preprocess_text function and add the clean corpus to words_list\n",
        "words_list = []\n",
        "for i in range(50):\n",
        "  cleaned = preprocess_text(data[1][i])\n",
        "  words_list = words_list + cleaned"
      ],
      "execution_count": 200,
      "outputs": []
    },
    {
      "cell_type": "code",
      "metadata": {
        "id": "nE04NebGPhp5",
        "colab_type": "code",
        "colab": {}
      },
      "source": [
        "# This Function is used to get the frequency of words in the cleaned corpus\n",
        "# It returns the frequency of the words passed\n",
        "def get_frequency(words_list):\n",
        "    freqs = {}\n",
        "    for word in words_list:\n",
        "            if word in freqs:\n",
        "                freqs[word] += 1\n",
        "            else:\n",
        "                freqs[word] = 1\n",
        "    return freqs"
      ],
      "execution_count": 201,
      "outputs": []
    },
    {
      "cell_type": "code",
      "metadata": {
        "id": "XtggjJh-PooY",
        "colab_type": "code",
        "colab": {
          "base_uri": "https://localhost:8080/",
          "height": 53
        },
        "outputId": "d6a6dc46-2fef-4eae-b696-effbf863a8c0"
      },
      "source": [
        "# Using get_frequency the get frequency of all words\n",
        "frequency = get_frequency(words_list)\n",
        "print(frequency)"
      ],
      "execution_count": 202,
      "outputs": [
        {
          "output_type": "stream",
          "text": [
            "{'contact': 50, 'www.linkedin.com/in/williamhgates': 1, 'linkedin': 63, 'gatesnot.es/linkedin': 1, 'personal': 24, 'bill': 8, 'gates': 8, 'co-chair': 7, 'melinda': 7, 'foundation': 16, 'seattle': 8, 'summary': 38, 'microsoft': 17, 'co': 5, 'founder': 39, 'voracious': 1, 'reader': 1, 'avid': 1, 'traveler': 3, 'active': 6, 'blogger': 2, 'experience': 67, 'present': 107, 'years': 215, 'co-founder': 17, 'education': 63, 'harvard': 16, 'university': 103, 'lakeside': 1, 'school': 48, 'page': 139, 'www.linkedin.com/in/melindagates': 1, 'm-gat.es/fsurb': 1, 'm-gat.es/ppbct': 1, 'company': 58, 'm-gat.es/dsgdvt': 1, 'publications': 14, 'mother': 2, 'child': 5, 'project': 27, 'moment': 3, 'lift': 3, 'foreword': 1, 'family': 7, 'affluence': 1, 'morality': 1, 'peter': 1, 'singer': 2, 'forward': 2, 'design': 14, 'good': 12, 'new': 123, 'era': 2, 'architecture': 3, 'everyone': 3, 'john': 1, 'cary': 1, 'pivotal': 2, 'ventures': 7, 'author': 16, 'greater': 37, 'area': 93, 'philanthropist': 4, 'businesswoman': 1, 'global': 44, 'advocate': 2, 'women': 8, 'girls': 8, 'help': 24, 'set': 8, 'overall': 3, 'direction': 1, 'specifically': 5, 'concentrate': 1, 'planning': 3, 'maternal': 1, 'health': 37, 'applying': 1, 'principles': 1, 'user-centered': 1, 'field': 5, 'development': 58, 'duke': 3, 'board': 25, 'trustees': 4, 'member': 29, 'general': 11, 'manager': 11, 'information': 21, 'products': 31, 'time': 20, 'managed': 4, 'teams': 7, 'developed': 21, 'multimedia': 2, 'interactive': 2, 'including': 29, 'expedia': 1, 'cinemania': 1, 'encarta': 1, 'fuqua': 1, 'business': 74, 'master': 18, 'administration': 10, 'mba': 11, 'bachelor': 16, 'science': 95, 'bs': 6, 'computer': 71, 'www.linkedin.com/in/jimyongkim': 1, 'www.worldbank.org/en/about/': 1, 'president': 24, 'blogs.worldbank.org/voices/team/': 1, 'jim-yong-kim': 1, 'blog': 5, 'top': 57, 'skills': 41, 'public': 14, 'program': 14, 'evaluation': 5, 'international': 16, 'jim': 3, 'yong': 2, 'kim': 8, 'vice': 11, 'chairman': 15, 'partner': 30, 'infrastructure': 11, 'partners': 16, 'washington': 8, 'ph': 5, 'fund': 20, 'invests': 3, 'projects': 22, 'across': 18, 'several': 13, 'sectors': 2, 'around': 12, 'world': 50, 'july': 29, 'february': 20, 'served': 7, 'th': 8, 'bank': 10, 'group': 24, 'soon': 2, 'assumed': 1, 'position': 2, 'organization': 18, 'established': 4, 'two': 13, 'goals': 5, 'guide': 2, 'work': 39, 'end': 7, 'extreme': 1, 'poverty': 1, 'boost': 1, 'shared': 2, 'prosperity': 1, 'focusing': 3, 'bottom': 1, 'percent': 3, 'population': 3, 'developing': 9, 'countries': 6, '’': 95, 'tenure': 5, 'supported': 2, 'priorities': 1, 'levels': 2, 'never': 2, 'seen': 2, 'outside': 3, 'financial': 18, 'crisis': 2, 'along': 3, 'achieved': 3, 'successive': 2, 'record': 2, 'replenishments': 1, 'institution': 3, 'poorest': 1, 'also': 28, 'launched': 12, 'innovative': 12, 'instruments': 1, 'facilities': 1, 'address': 2, 'needs': 5, 'prevent': 1, 'pandemics': 1, 'millions': 5, 'people': 29, 'forcibly': 1, 'displaced': 1, 'homes': 2, 'climate': 8, 'shocks': 1, 'conflict': 1, 'violence': 1, 'physician': 1, 'anthropologist': 1, 'career': 10, 'revolved': 1, 'improving': 4, 'lives': 12, 'poor': 3, 'joining': 2, 'dartmouth': 4, 'college': 10, 'held': 2, 'professorships': 1, 'medical': 8, 'director': 29, 'hiv': 1, 'aids': 2, 'department': 12, 'led': 17, '“': 16, '”': 16, 'initiative': 8, 'first-ever': 2, 'goal': 6, 'treatment': 1, 'greatly': 1, 'expanded': 6, 'access': 11, 'antiretroviral': 1, 'medication': 1, 'founded': 9, 'non-profit': 6, 'works': 5, 'communities': 5, 'four': 6, 'continents': 1, 'received': 2, 'macarthur': 1, 'genius': 1, 'fellowship': 6, 'recognized': 7, 'one': 33, 'america': 5, 'best': 19, 'leaders': 11, 'u': 12, 'news': 14, 'report': 5, 'named': 11, 'magazine': 6, 'influential': 4, 'year': 97, 'york': 85, 'ny': 2, 'dc': 1, 'hanover': 1, 'nh': 1, 'professor': 20, 'lecturer': 1, 'executive': 28, 'boston': 15, 'phd': 19, 'anthropology': 1, 'doctor': 7, 'medicine': 3, 'md': 2, 'brown': 2, 'ab': 2, 'human': 4, 'biology': 3, 'www.linkedin.com/in/laurencefink': 1, 'larry': 3, 'fink': 5, 'ceo': 36, 'blackrock': 6, 'honors-awards': 10, 'laurence': 1, 'chief': 18, 'officer': 10, 'inc': 21, 'seven': 3, 'leadership': 18, 'firm': 9, 'grown': 5, 'leader': 14, 'investment': 11, 'technology': 74, 'solutions': 20, 'investors': 4, 'build': 18, 'better': 8, 'futures': 1, 'today': 6, 'trusted': 5, 'manage': 3, 'money': 2, 'mr': 4, \"world's\": 5, 'greatest': 3, 'fortune': 10, \"barron's\": 1, 'ceos': 1, 'consecutive': 2, 'prior': 6, 'founding': 9, 'management': 33, 'committee': 5, 'managing': 7, 'first': 15, 'corporation': 5, 'serves': 7, 'nyu': 7, 'co-chairman': 1, 'langone': 1, 'center': 16, 'addition': 3, 'boards': 2, 'museum': 1, 'modern': 3, 'art': 2, 'council': 1, 'foreign': 2, 'relations': 2, 'nature': 1, 'conservancy': 1, 'advisory': 5, 'tsinghua': 1, 'economics': 23, 'beijing': 1, 'partnership': 5, 'city': 49, 'earned': 2, 'concentration': 1, 'real': 13, 'estate': 5, 'california': 8, 'los': 12, 'angeles': 11, 'ucla': 4, 'ba': 6, 'political': 6, 'arts': 11, 'b': 18, 'www.linkedin.com/in/elon-reeve-': 1, 'musk': 2, 'mathematics': 4, 'statistics': 2, 'r': 9, 'elon': 1, 'reeve': 1, 'something': 3, 'important': 3, 'enough': 1, 'even': 3, 'odds': 1, 'favor': 1, 'get': 9, 'morning': 1, 'think': 3, 'future': 8, 'going': 1, 'bright': 2, 'day': 5, 'otherwise': 2, 'united': 14, 'states': 6, 'pennsylvania': 6, 'commerce': 2, 'www.linkedin.com/in/jack-': 1, 'ma-a': 1, 'jack': 1, 'alibaba': 2, 'www.linkedin.com/in/leonardo-': 1, 'dicaprio': 2, 'leonardo': 1, 'actor': 4, 'producer': 12, 'metropolitan': 3, 'fab': 1, 'engineer': 16, 'september': 82, 'months': 252, 'www.linkedin.com/in/': 7, 'joeyexp-abaa': 1, 'acting': 1, 'entrepreneurship': 5, 'film': 3, 'joe': 5, 'rogan': 18, 'stand': 2, 'comic': 1, 'mixed': 2, 'martial': 2, 'fanatic': 1, 'psychedelic': 1, 'adventurer': 2, 'host': 8, 'hosted': 3, 'short-lived': 1, 'cbs': 1, 'show': 22, 'game': 7, 'head': 13, 'aired': 3, 'eight': 2, 'episodes': 3, 'january': 74, 'produced': 3, 'ashton': 1, 'kutcher': 1, 'involved': 2, 'contestants': 1, 'try': 1, 'convince': 1, 'perform': 3, 'take': 6, 'part': 10, 'increasingly': 1, 'bizarre': 1, 'situations': 1, 'agreed': 1, 'idea': 2, 'intrigued': 1, 'calling': 1, 'completely': 1, 'mindless': 1, 'form': 1, 'entertainment': 4, 'december': 39, 'free': 3, 'podcast': 6, 'friend': 2, 'fellow': 21, 'comedian': 3, 'brian': 1, 'redban': 2, 'episode': 1, 'recorded': 1, 'initially': 1, 'live': 8, 'weekly': 7, 'broadcast': 1, 'ustream': 1, 'sitting': 1, 'front': 4, 'laptops': 1, 'bullshitting': 1, 'august': 55, 'entered': 1, 'list': 4, 'podcasts': 2, 'itunes': 1, 'picked': 1, 'siriusxm': 3, 'satellite': 2, 'radio': 7, 'features': 9, 'array': 1, 'guests': 2, 'discuss': 2, 'current': 8, 'events': 3, 'views': 1, 'philosophy': 9, 'comedy': 8, 'hobbies': 1, 'numerous': 3, 'topics': 8, 'downloaded': 2, 'million': 16, 'times': 9, 'october': 23, 'month': 35, 'making': 14, 'popular': 3, 'accused': 1, 'dane': 1, 'cook': 2, 'joke': 1, 'thievery': 1, 'resumed': 1, 'role': 6, 'fear': 2, 'factor': 4, 'seventh': 1, 'final': 4, 'season': 1, 'took': 1, 'job': 10, 'would': 4, 'hate': 1, 'see': 2, 'somebody': 1, 'else': 1, 'played': 3, 'major': 4, 'character': 6, 'movie': 1, 'zookeeper': 1, 'working': 17, 'book': 6, 'tentatively': 1, 'titled': 1, 'irresponsible': 1, 'advice': 3, 'man': 3, 'credibility': 1, 'based': 15, 'entries': 1, 'website': 2, 'comes': 2, 'boom': 1, 'another': 2, 'action-comedy': 1, 'starring': 2, 'kevin': 4, 'james': 2, 'released': 5, 'sixth': 1, 'special': 9, 'tabernacle': 1, 'exclusively': 4, 'download': 1, 'inspired': 2, 'release': 1, 'way': 9, 'louis': 1, 'c': 14, 'k': 6, 'thing': 3, 'began': 1, 'relocating': 1, 'signed': 1, 'exclusive': 7, 'developmental': 1, 'deal': 2, 'disney': 1, 'appeared': 2, 'television': 7, 'shows': 1, 'hardball': 2, 'newsradio': 2, 'started': 5, 'ultimate': 2, 'fighting': 2, 'championship': 3, 'ufc': 1, 'interviewer': 2, 'color': 5, 'commentator': 2, 'put': 2, 'hold': 3, 'becoming': 3, 'resume': 1, 'stand-up': 3, 'shortly': 1, \"show's\": 1, 'reform': 1, 'progression': 1, 'mmarap': 1, 'cic': 1, 'fighter': 1, 'newton': 1, 'south': 3, 'high': 15, 'massachusetts': 3, 'www.linkedin.com/in/satyanadella': 1, 'www.microsoft.com/ceo': 1, 'satya': 1, 'nadella': 1, 'redmond': 3, 'define': 1, 'mission': 13, 'empowering': 2, 'every': 15, 'person': 6, 'planet': 3, 'achieve': 1, 'chicago': 4, 'starbucks': 4, 'fred': 1, 'hutch': 1, 'booth': 1, 'manipal': 2, 'institute': 27, 'degree': 5, 'electrical': 7, 'engineering': 27, 'wisconsin-milwaukee': 1, 'www.linkedin.com/in/jessica-alba': 1, 'honest.com': 3, 'honestbeauty.com': 3, 'entrepreneur': 11, 'grace': 1, 'kelly': 1, 'award': 19, 'ey': 2, 'champion': 2, 'children': 11, 'green': 1, 'parent': 3, 'honest': 11, 'life': 19, 'jessica': 1, 'alba': 1, 'beauty': 3, 'actress': 14, 'bestselling': 3, 'playa': 1, 'vista': 1, 'inspire': 2, 'empower': 2, 'happy': 1, 'healthy': 5, 'provides': 9, 'safe': 1, 'effective': 1, 'delightful': 1, 'wide': 2, 'range': 3, 'consumer': 24, 'categories': 2, 'baby': 2, 'care': 6, 'home': 6, 'vitamins': 1, 'supplements': 1, 'passionate': 6, 'community': 12, 'consumers': 5, 'values': 7, 'style': 2, 'comprehensive': 1, 'prestige': 1, 'skincare': 1, 'makeup': 1, 'haircare': 1, 'collection': 13, 'created': 15, 'standards': 2, 'safety': 2, 'performance': 9, 'spirit': 1, 'hallmark': 1, 'available': 9, 'via': 4, 'retail': 8, 'locations': 6, 'north': 4, 'www.linkedin.com/in/gwyneth-': 1, 'paltrow-ba': 1, 'emmy': 3, 'outstanding': 5, 'informational': 1, 'series': 9, 'cancer': 2, 'nominated': 8, 'guest': 2, 'glee': 2, 'academy': 11, 'original': 4, 'song': 2, 'coming': 4, 'grammy': 1, 'spoken': 6, 'word': 3, 'album': 2, 'bear': 1, 'friends': 3, 'golden': 3, 'globe': 4, 'proof': 2, 'easy': 4, 'delicious': 3, 'weekday': 1, 'recipes': 5, 'super-busy': 1, 'make': 16, 'look': 2, 'feel': 1, 'great': 6, \"father's\": 1, 'daughter': 2, 'celebrating': 1, 'togetherness': 1, 'gwyneth': 4, 'paltrow': 6, 'goop.com': 3, 'award-winning': 5, 'three': 11, 'cookbooks': 1, 'creative': 6, 'lifestyle': 3, 'goop': 8, 'choices': 2, 'pushed': 1, 'many': 19, 'conversations': 2, '—': 12, 'primarily': 4, 'wellness': 6, 'mindfulness': 1, 'mainstream': 1, 'shining': 1, 'light': 2, 'basic': 3, 'right': 3, 'clean': 1, 'food': 8, 'properly': 1, 'regulated': 1, 'families': 5, 'female': 1, 'start-up': 2, 'heads': 1, 'creating': 7, 'culture': 2, 'celebrates': 1, 'empowers': 1, 'thread': 1, 'line': 7, 'multi-faceted': 1, 'complicated': 8, 'busy': 1, 'tches': 1, 'simultaneously': 1, 'team': 44, 'microcosm': 1, 'emblematic': 1, 'larger': 1, 'sea': 1, 'change': 20, 'happen': 3, 'ever-evolving': 1, 'intent': 1, 'choice': 2, 'count': 1, 'resource': 2, 'strapped': 1, 'hope': 6, 'surface': 2, 'experiences': 4, 'fall': 3, 'kitchen': 3, 'homespun': 1, 'newsletter': 1, 'gp': 2, 'wanted': 2, 'place': 6, 'organize': 2, 'unbiased': 2, 'travel': 1, 'recommendations': 3, 'health-centric': 1, 'shopping': 3, 'discoveries': 1, 'questions': 1, 'fitness': 1, 'psyche': 1, 'answered': 1, 'become': 6, 'fully': 1, 'formed': 2, 'site': 3, 'offering': 1, 'tight': 1, 'curation': 1, 'content': 10, 'introduce': 3, 'incredible': 1, 'experts': 4, 'mentored': 2, 'throughout': 4, 'wider': 1, 'audience': 2, 'readers': 2, 'find': 6, 'suggestions': 1, 'shop': 2, 'eat': 1, 'stay': 1, 'anonymous': 1, 'crowd-sourced': 1, 'recommendation': 5, 'engine': 6, 'thursday': 1, 'email': 2, 'remains': 2, 'inbox': 1, 'staple': 1, 'significantly': 2, 'since': 13, 'launch': 4, 'small': 9, 'robust': 1, 'full': 5, 'pieces': 1, 'favorite': 2, 'designers': 1, 'collaborations': 1, 'luxurious': 1, 'organic': 3, 'skin-care': 1, 'juice': 1, 'truly': 1, 'represents': 2, 'brand': 17, 'despite': 1, 'growth': 27, 'things': 6, 'stayed': 1, 'know': 1, 'words': 2, 'actions': 1, 'aligned': 1, 'curious': 1, 'open': 5, 'minded': 1, 'service-centric': 1, 'approach': 6, 'test': 6, 'waters': 1, 'recommend': 1, 'love': 10, 'worthy': 1, 'wallets': 1, 'value': 8, 'trust': 1, 'ultimately': 1, 'indispensable': 1, 'go': 4, 'join': 3, 'us': 8, 'goop.com/subscribe': 1, 'oscar': 2, '®': 7, 'winning': 2, 'whose': 2, 'turn': 3, 'shakespeare': 1, 'garnered': 1, 'honors': 5, 'globes': 1, 'screen': 1, 'actors': 1, 'guild': 1, 'awards': 11, 'decorated': 1, 'playing': 2, 'substitute': 1, 'teacher': 2, 'holly': 1, 'holiday': 1, 'soundtrack': 1, 'country': 2, 'strong': 5, 'went': 1, 'gold': 4, 'notable': 1, 'credits': 1, 'include': 3, 'nomination': 1, 'wes': 1, \"anderson's\": 1, 'royal': 2, 'tenenbaums': 1, 'anthony': 1, \"mighella's\": 1, 'talented': 1, 'ripley': 1, 'david': 1, \"fincher's\": 1, 'alfonso': 1, \"cuarón's\": 1, 'expectations': 1, 'douglas': 1, \"mcgrath's\": 1, 'emma': 1, 'sliding': 1, 'doors': 1, 'recently': 7, \"marvel's\": 1, 'iron': 1, 'franchise': 1, 'ariannahuffington': 2, 'www.thriveglobal.com': 1, 'www.facebook.com/': 1, 'twitter.com/ariannahuff': 1, 'third': 4, 'politicians': 1, 'abandoning': 1, 'middle': 2, 'class': 10, 'betraying': 1, 'american': 3, 'dream': 3, 'thrive': 8, 'metric': 2, 'redefining': 5, 'success': 6, 'well-being': 2, 'wisdom': 2, 'wonder': 2, 'fearless': 1, '...': 3, 'sleep': 3, 'revolution': 4, 'transforming': 4, 'night': 2, 'fourth': 2, 'instinct': 1, 'call': 1, 'soul': 1, 'arianna': 2, 'huffington': 5, 'post': 6, 'books': 6, 'quickly': 4, 'became': 7, 'widely-read': 1, 'linked': 2, 'frequently-cited': 1, 'media': 27, 'brands': 7, 'internet': 6, 'leading': 13, 'behavior': 3, 'tech': 24, 'changing': 5, 'ending': 1, 'collective': 2, 'delusion': 1, 'burnout': 1, 'price': 1, 'must': 1, 'pay': 1, \"magazine's\": 1, 'forbes': 16, 'powerful': 4, 'originally': 2, 'greece': 1, 'moved': 1, 'england': 1, 'graduated': 1, 'cambridge': 3, 'famed': 1, 'debating': 1, 'society': 4, 'union': 1, 'onex': 1, 'last': 3, 'instant': 2, 'bestsellers': 1, 'editor-in-chief': 1, 'may': 40, 'www.linkedin.com/in/owinfrey': 1, 'picture': 2, 'selma': 2, 'presidential': 4, 'medal': 3, 'freedom': 3, 'jean': 1, 'hersholt': 1, 'humanitarian': 3, 'supporting': 6, 'purple': 2, 'oprah': 11, 'winfrey': 15, 'publisher': 2, 'innovator': 3, 'unparalleled': 1, 'connection': 1, 'respected': 1, 'admired': 1, 'guiding': 2, 'successful': 4, 'cable': 1, 'network': 23, 'harpo': 1, 'films': 1, 'embark': 1, 'multi-city': 1, 'speaking': 4, 'tour': 2, 'australia': 5, 'zealand': 1, 'heels': 1, 'eight-city': 1, 'arena': 1, 'transformational': 2, 'weekend': 1, 'award-nominated': 1, 'critical': 6, 'acclaim': 1, 'lee': 1, 'daniels': 1, 'butler': 1, 'acted': 3, 'talk': 5, 'philanthropists': 1, 'long': 4, 'believed': 1, 'door': 3, 'april': 23, 'partnered': 2, 'create': 7, 'teavana': 2, 'chai': 1, 'tea': 1, 'sold': 5, 'stores': 5, 'canada': 8, 'donation': 1, 'purchase': 2, 'made': 9, 'benefit': 2, 'educational': 5, 'opportunities': 3, 'youth': 5, 'funding': 2, 'national': 17, 'charity': 1, 'organizations': 8, 'cares': 1, 'mentoring': 1, 'movement': 1, 'pathways': 1, 'africa': 3, 'graduating': 1, 'fifth': 1, 'provide': 7, 'academically': 1, 'gifted': 1, 'disadvantaged': 1, 'backgrounds': 1, 'graduates': 2, 'continued': 1, 'higher': 2, 'colleges': 1, 'universities': 4, 'awarded': 4, 'nation': 6, 'highest': 2, 'civilian': 1, 'honor': 1, 'nearly': 3, 'doubled': 1, 'prime-time': 1, 'viewership': 1, 'ago': 2, 'sunday': 1, 'p': 5, 'et': 2, 'pt': 2, 'premiere': 2, 'belief': 1, 'seven-part': 1, 'docuseries': 1, 'explores': 1, 'faith': 1, 'spirituality': 1, 'oversees': 1, 'devoted': 1, 'helping': 6, 'average': 2, 'circulation': 1, 'nationally': 1, 'syndicated': 1, 'seasons': 2, 'www.linkedin.com/in/donald-trump-': 1, 'jr-b': 1, 'donald': 1, 'trump': 3, 'jr': 1, 'wharton': 7, 'finance': 9, 'realestate': 1, 'marketing': 23, 'hill': 2, 'secondary': 4, 'diploma': 4, 'programs': 5, 'www.linkedin.com/in/jeffweiner': 1, 'www.linkedin.com/': 1, 'jeff': 6, 'weiner': 2, 'san': 36, 'francisco': 36, 'bay': 29, 'strategy': 20, 'continues': 1, 'realize': 3, 'vision': 35, 'economic': 10, 'opportunity': 3, 'workforce': 3, \"he'll\": 1, 'continue': 3, 'mentor': 8, 'coach': 4, 'advise': 2, 'key': 10, 'strategic': 4, 'initiatives': 4, 'represent': 2, 'externally': 2, 'ongoing': 1, 'focused': 22, 'investing': 5, 'coaching': 2, 'philanthropic': 2, 'ensure': 4, 'compassion': 6, 'taught': 7, 'practiced': 1, 'primary': 10, 'june': 67, 'grew': 3, 'membership': 2, 'base': 3, 'increased': 3, 'revenue': 4, 'employees': 5, 'presently': 1, 'resides': 1, 'directors': 9, 'intuit': 3, 'donorschoose.org': 1, 'everfi': 2, 'ed': 2, 'elementary': 2, 'additionally': 1, 'early': 12, 'stage': 7, 'investor': 11, 'next': 6, 'play': 2, 'separately': 1, 'newly': 2, 'concrete': 2, 'rose': 3, 'capital': 20, 'diverse': 10, 'founders': 4, 'start': 3, 'ups': 2, 'serving': 7, 'underserved': 5, 'building': 10, 'residence': 3, 'accel': 2, 'greylock': 2, 'advising': 5, \"firm's\": 2, 'existing': 2, 'portfolio': 7, 'companies': 34, 'closely': 1, 'evaluate': 1, 'previously': 8, 'roles': 3, 'yahoo': 7, 'division': 4, \"yahoo's\": 3, 'web': 20, 'product': 33, 'mail': 2, 'search': 19, 'customers': 8, 'governments': 1, 'invest': 3, 'entrepreneurial': 6, 'purpose-driven': 1, 'focus': 8, 'e': 14, 'g': 11, 'brex': 1, 'figma': 1, 'notion': 1, 'headspace': 1, 'scale': 17, 'wildlife': 1, 'vox': 1, 'cameo': 1, 'seesaw': 1, 'ginger.io': 1, 'brilliant': 1, 'browser': 1, 'trala': 1, 'esusu': 1, 'previous': 5, 'exits': 1, 'slack': 1, 'ipo': 2, 'cloudera': 1, 'lp': 7, 'advisor': 9, 'committed': 2, 'mountain': 12, 'view': 14, 'ca': 26, 'provider': 3, 'medium-sized': 1, 'businesses': 11, 'accounting': 2, 'professionals': 8, 'institutions': 2, 'donorschoose': 1, \"web's\": 2, 'marketplaces': 1, 'designed': 21, 'enable': 3, 'teachers': 1, 'upload': 2, 'classroom': 1, 'need': 5, 'anyone': 2, 'select': 3, 'metro': 3, 'coursework': 1, 'platform': 14, 'develop': 8, 'distribute': 3, 'boys': 1, 'clubs': 1, 'peninsula': 1, 'bgcp': 3, 'members': 6, 'academic': 6, 'complete': 2, 'ready': 1, 'grades': 1, '–': 6, 'nine': 2, 'clubhouses': 1, 'six': 2, 'sites': 3, 'east': 3, 'palo': 11, 'alto': 11, 'menlo': 6, 'park': 7, 'redwood': 1, 'half': 1, 'drop': 1, 'young': 11, 'serve': 2, 'rapidly': 2, 'past': 4, 'five': 5, 'venture': 15, 'places': 1, 'start-ups': 4, 'low-cost': 1, 'cities': 8, 'generate': 1, 'train': 7, 'generation': 9, 'entrepreneurs': 8, 'malaria': 2, 'eradicate': 1, 'preventable': 1, 'treatable': 1, 'deaths': 1, 'due': 4, 'conjunction': 1, 'nations': 5, 'millennium': 1, 'reaching': 1, 'overseeing': 2, 'l': 1, 'responsible': 8, 'roughly': 1, 'billion': 4, 'annual': 1, 'helped': 10, 'drive': 5, 'social': 13, 'category-leading': 1, 'sports': 4, 'directed': 2, 'acquisition': 6, 'integration': 4, 'inktomi': 1, 'altavista': 2, 'fast': 5, 'well': 18, 'oversaw': 2, 'answers': 1, 'acquisitions': 1, 'flickr': 1, 'del.icio.us': 1, 'lead': 11, 'revitalize': 1, \"company's\": 3, 'efforts': 7, 'corporate': 12, 'modification': 1, 'individual': 3, 'unit': 1, 'senior': 20, 'marketplace': 1, 'sunnyvale': 3, 'windsor': 1, 'warner': 4, 'bros': 4, 'studios': 1, 'online': 12, 'march': 31, 'oversee': 1, 'entertaindom': 1, 'destination': 1, 'burbank': 3, 'analyst': 21, 'etc': 13, 'wrote': 4, 'initial': 5, 'plan': 2, 'approved': 1, 'braxton': 1, 'associates': 1, 'consulting': 15, 'deloitte': 3, 'touche': 1, 'case': 2, 'included': 11, 'scenario': 2, 'expansion': 2, 'consolidation': 1, 'distribution': 2, 'strategies': 4, 'multiple': 4, 'industries': 12, 'energy': 4, 'randizuckerberg': 1, 'dotcomplicated.co/': 1, 'welcome-to-dot': 1, 'zuckerbergmedia.com/': 1, 'www.amazon.com/randi-': 1, 'zuckerberg': 15, 'bebflu': 1, 'ref': 1, '=d': 1, 'p_byline_cont_ebooks': 1, 'video': 25, 'production': 19, 'randi': 14, 'personality': 2, 'facebook': 24, 'worldwide': 5, 'noticing': 1, 'introducing': 1, 'especially': 3, 'fun': 5, 'hopes': 3, 'dollar': 2, 'feature': 11, 'diversity': 4, 'creator': 4, 'dot': 13, 'animated': 3, 'nbc': 2, 'universal': 2, 'cbc': 2, 'hulu': 1, 'dozens': 2, 'networks': 16, 'tech-savvy': 2, 'girl': 2, 'give': 2, 'much': 7, 'needed': 1, 'techie': 2, 'model': 13, 'sue': 2, 'themed': 1, 'dining': 1, 'concept': 1, 'enjoy': 2, 'printed': 1, 'mores': 1, 'edible': 1, 'selfies': 1, 'cutting': 2, 'edge': 4, 'vr': 1, 'games': 5, 'robots': 1, 'pancakes': 1, 'educating': 1, 'stem': 1, 'feels': 1, 'accessible': 2, 'approachable': 1, 'tennessee': 1, 'plans': 2, 'expand': 1, 'ten': 1, 'additional': 2, 'hosts': 2, 'selling': 3, 'barely': 1, 'found': 1, 'theater': 2, 'dreamed': 1, 'singing': 1, 'opera': 2, 'met': 1, 'lincoln': 2, 'settle': 1, 'far': 3, \"randi's\": 4, 'mom': 1, 'husband': 1, 'sons': 1, \"children's\": 4, 'november': 17, 'announced': 1, 'greenlit': 1, 'techie-girl': 1, 'adventures': 1, 'henson': 1, 'industrial': 6, 'brothers': 3, 'animation': 1, 'hard': 4, 'highlight': 2, 'exciting': 3, 'trends': 4, 'alongside': 1, 'message': 1, 'use': 10, 'inspiring': 1, 'coding': 2, 'aspect': 2, 'guided': 1, 'consultants': 1, 'common': 2, 'sense': 1, 'among': 4, 'childhood': 3, 'missy': 1, 'shattering': 1, 'glass': 1, 'ceilings': 1, 'breaking': 1, \"missy's\": 1, 'grade': 4, 'homework': 2, 'assignment': 1, 'goes': 2, 'viral': 1, 'catapulted': 1, 'level': 4, 'superstardom': 1, 'quite': 1, 'possibly': 1, 'politics': 2, 'oxygen': 2, 'quit': 2, 'on-air': 1, 'premiering': 1, 'aims': 2, 'boss': 1, 'sirius': 1, 'xm': 1, 'wednesday': 1, 'noon': 1, 'channel': 5, 'fast-paced': 1, 'hour': 1, 'call-in': 1, 'interviews': 6, 'figures': 1, 'authors': 1, 'suze': 1, 'orman': 1, 'deepak': 1, 'chopra': 1, 'mayim': 1, 'bialik': 1, 'george': 1, 'takei': 1, 'star': 7, 'jones': 1, 'rebecca': 1, 'minkoff': 1, 'rock': 2, 'ages': 2, 'broadway': 4, 'regina': 1, 'koonst': 1, 'performances': 1, 'hit': 2, 'musical': 2, 'always': 2, 'lifelong': 1, 'sing': 1, 'given': 2, 'dreams': 2, 'funny': 1, 'back': 2, 'least': 1, 'expect': 1, 'want': 7, 'learn': 6, 'code': 5, 'seller': 3, 'wsj': 1, 'tells': 1, 'story': 1, 'days': 3, 'points': 1, 'finger': 1, 'question': 1, 'little': 14, 'learns': 1, 'puts': 1, 'gadgets': 1, 'speaker': 8, 'one-hour': 1, 'speech': 8, 'journey': 2, 'lines': 2, 'silicon': 3, 'valley': 4, 'delicate': 1, 'balance': 1, 'professional': 7, 'enhancing': 1, 'taking': 3, 'might': 1, 'entertaining': 1, 'keynotes': 2, 'hear': 1, 'presented': 2, 'like': 13, 'one-woman': 1, 'cabaret': 1, 'traditional': 2, 'keynote': 1, 'prepare': 3, 'laugh': 1, 'thoroughly': 1, 'entertained': 1, 'testimonials': 1, 'behalf': 2, 'nbcu': 1, 'say': 1, 'thank': 1, 'enjoyable': 1, 'interesting': 3, 'presentations': 1, 'ever': 1, 'maclellan': 1, 'buzz': 1, \"obama's\": 1, 'town': 2, 'hall': 3, 'cnn': 2, 'inauguration': 1, 'abc': 1, 'debates': 1, 'spokesperson': 1, 'account': 5, 'ogilvy': 1, 'mather': 1, 'assistant': 27, 'psychology': 6, 'mikebloomberg': 1, 'www.mikebloomberg.com': 1, 'www.bloomberg.org': 1, 'www.bloomberg.com': 1, 'mike': 7, 'bloomberg': 38, 'three-term': 1, 'mayor': 9, 'terms': 5, 'born': 3, 'raised': 1, 'medford': 1, 'michael': 2, 'attended': 3, 'johns': 2, 'hopkins': 2, 'paid': 1, 'tuition': 1, 'loans': 1, 'parking': 1, 'lot': 2, 'attendant': 1, 'hired': 2, 'wall': 2, 'street': 5, 'salomon': 4, 'entry-level': 1, 'ranks': 1, 'equity': 7, 'trading': 4, 'sales': 1, 'heading': 1, 'systems': 14, 'acquired': 2, 'let': 1, 'bring': 6, 'transparency': 1, 'efficiency': 3, 'buying': 1, 'securities': 1, 'startup': 13, 'room': 5, 'office': 5, 'offices': 3, 'brought': 3, 'innovation-driven': 1, 'government': 11, 'turned': 1, 'broken': 2, 'system': 30, 'raising': 1, 'holding': 1, 'schools': 1, 'accountable': 1, 'spurred': 1, 'creation': 1, 'revitalizing': 1, 'old': 1, 'areas': 6, 'spurring': 1, 'strengthening': 1, 'passion': 2, 'ambitious': 3, 'models': 20, 'ban': 2, 'smoking': 2, 'indoor': 1, 'workplaces': 1, 'parks': 1, 'beaches': 1, 'upon': 2, 'leaving': 1, 'returned': 1, 'devoting': 1, 'philanthropy': 5, 'priority': 1, 'philanthropies': 4, 'employs': 3, 'unique': 7, 'data-driven': 4, 'grows': 2, 'gives': 2, 'decision': 9, 'makers': 3, 'connecting': 2, 'dynamic': 6, 'ideas': 2, 'strength': 4, 'delivering': 5, 'data': 124, 'analytics': 23, 'accurately': 3, 'core': 8, 'terminal': 1, 'enterprise': 12, 'leveraging': 2, 'allow': 2, 'integrate': 3, 'efficiently': 3, 'effectively': 2, 'focuses': 4, 'lasting': 2, 'environment': 4, 'innovation': 14, 'encompass': 1, 'issues': 1, 'believe': 4, 'envoy': 4, 'action': 4, 'secretary-general': 3, 'supports': 1, 'regions': 1, 'civil': 1, 'accelerate': 1, 'progress': 2, 'assisted': 4, 'consultations': 1, 'mayors': 1, 'related': 6, 'stakeholders': 1, 'ambassador': 9, 'noncommunicable': 3, 'diseases': 5, 'local': 1, 'burden': 1, 'heart': 2, 'disease': 2, 'injuries': 1, 'road': 1, 'traffic': 1, 'accidents': 1, 'helps': 2, 'mobilize': 1, 'donors': 1, 'private': 5, 'sector': 3, 'fight': 1, 'save': 1, 'elected': 1, 're-elected': 1, 'cut': 2, 'crime': 1, 'jobs': 5, 'attracting': 1, 'implemented': 11, 'restaurants': 1, 'bars': 1, 'expectancy': 1, 'residents': 1, 'reforms': 1, 'drove': 2, 'graduation': 2, 'rates': 5, 'policies': 3, 'avoid': 1, 'losses': 1, 'experienced': 3, 'recession': 1, 'service': 12, 'subscribers': 2, 'globally': 5, 'law': 3, 'bna': 1, 'beyond': 2, 'delivered': 3, 'mobile': 8, 'magazines': 7, 'businessweek': 1, 'markets': 7, 'covers': 1, 'bureaus': 1, 'headquartered': 2, 'www.linkedin.com/in/wozniaksteve': 1, 'steve': 2, 'wozniak': 1, 'apple': 12, 'gatos': 1, 'fusion-io': 1, 'scientist': 25, \"i'm\": 3, 'looking': 1, 'technologies': 10, 'applicable': 1, 'servers': 1, 'storage': 3, 'noticed': 1, 'discover': 1, 'amazing': 2, 'principally': 1, 'infinite': 1, 'loop': 1, 'cupertino': 2, 'digital': 19, 'wheels': 1, 'zeus': 1, 'cto': 3, 'tenet': 1, 'diagnostic': 1, 'programmer': 2, 'berkeley': 1, 'ee': 1, 'cs': 7, 'colorado': 1, 'boulder': 1, 'honorary': 3, 'electronics': 3, 'www.linkedin.com/in/mkbhd': 1, 'youtube.com': 1, 'mkbhd.com': 1, 'seo': 1, 'languages': 12, 'english': 9, 'marques': 1, 'brownlee': 1, 'independent': 4, 'maplewood': 1, 'pro': 1, 'adobe': 3, 'effects': 2, 'specialties': 4, 'branding': 1, 'identity': 1, 'optimization': 7, 'mkbhd': 1, 'http://youtube.com/MKBHD': 1, 'youtube': 10, 'creater': 1, 'advertising': 4, 'droiddog.com': 1, 'contributing': 2, 'editor': 2, 'specialty': 1, 'written': 3, 'reviews': 2, 'http://www.droiddog.com/android-blog/author/marquesb/': 1, \"gizmo's\": 1, 'freeware': 1, 'tutorial': 2, 'specialist': 3, 'featured': 10, 'http://www.techsupportalert.com/view/videos': 1, 'lockergnome': 1, 'screencast': 1, 'playlist': 1, 'http://goo.gl/lYpV': 1, 'stevens': 1, 'columbia': 21, 'www.linkedin.com/in/aprokofieva': 2, 'anna': 2, 'prokofieva': 2, 'software': 28, 'google': 48, 'java': 9, 'research': 122, 'french': 4, 'russian': 2, 'currently': 5, 'docs': 3, 'student': 15, 'automatic': 4, 'hedge': 4, 'detection': 9, 'uncertainty': 2, 'determination': 2, 'dialogue': 2, 'text': 10, 'supervised': 7, 'masters': 4, 'undergraduate': 3, 'students': 13, 'various': 25, 'coordinator': 3, 'emerging': 4, 'scholars': 2, 'coordinated': 5, 'section': 3, 'course': 5, 'undergraduates': 2, 'workshop': 4, 'materials': 2, 'trained': 5, 'peer': 2, 'assistants': 2, 'invited': 2, 'talks': 2, 'intern': 43, 'worked': 23, 'category': 4, 'classification': 10, 'maps': 6, 'framework': 8, 'text-based': 2, 'extraction': 6, 'explored': 2, 'configurations': 2, 'neural': 22, 'ran': 3, 'experiments': 7, 'determine': 3, 'eye': 2, 'gaze': 2, 'significant': 2, 'improvement': 2, 'lexically-based': 2, 'language': 17, 'understanding': 8, 'mcgill': 4, 'sociolinguistics': 4, 'fieldworker': 2, 'contacted': 2, 'participants': 3, 'scheduled': 2, 'conducted': 5, 'collected': 7, 'learning': 118, 'lab': 11, 'annotated': 2, 'spectrograms': 2, 'praat': 2, 'noted': 2, 'differences': 2, 'patterns': 5, 'built': 8, 'using': 31, 'experiment': 3, 'builder': 2, 'testing': 16, 'vowel': 2, 'perception': 2, 'montreal': 2, 'involving': 3, 'francophone': 2, 'parents': 2, 'order': 4, 'study': 3, 'transcribed': 2, 'videos': 11, 'chat': 4, 'syscon': 2, 'justice': 2, 'richmond': 2, 'bc': 2, 'researched': 2, 'phonetic': 2, 'algorithms': 13, 'sound-alike': 2, 'function': 3, 'procedure': 2, 'database': 5, 'used': 18, 'large': 17, 'technical': 10, 'leads': 2, 'kaplan': 2, 'lsat': 4, 'instructor': 8, 'prep': 2, 'courses': 6, 'tutored': 2, 'individually': 2, 'mphil': 2, 'ms': 6, 'sc': 2, 'linguistics': 3, 'sir': 2, 'winston': 2, 'churchill': 2, 'ib': 2, 'www.linkedin.com/in/shaquilleoneal': 1, 'shaq.com/': 1, 'shaquille': 4, \"o'neal\": 1, 'mogul': 1, 'former': 5, 'athlete': 1, 'purveyor': 1, 'windermere': 1, 'basketball': 9, 'league': 2, 'court': 2, 'partnerships': 5, 'pursued': 1, 'interests': 2, 'nba': 13, 'player': 2, 'degrees': 1, 'doctorate': 3, 'big': 4, 'whether': 3, 'providing': 1, 'analysis': 27, 'tv': 4, 'part-owner': 1, 'sacramento': 1, 'kings': 1, 'appearing': 1, 'latest': 3, 'teammate': 1, 'guess': 1, 'makes': 1, 'bacon': 1, 'retiring': 1, 'relationships': 4, 'portfolios': 1, 'adopter': 1, 'identified': 2, 'serial': 1, 'household': 1, 'names': 1, 'turner': 3, 'reebok': 2, 'icyhot': 1, 'acumen': 1, 'like-minded': 1, 'conferences': 1, 'nationwide': 8, 'though': 1, 'known': 3, 'varied': 1, 'studio': 4, 'albums': 1, 'sworn': 1, 'reserve': 1, 'enforcement': 1, 'agencies': 2, 'collaborated': 2, 'everything': 3, 'fashion': 1, 'jewelry': 2, 'best-selling': 1, 'beverages': 2, 'foods': 2, 'co-host': 1, 'seven-time': 1, 'emmy-award-winning': 1, 'inside': 1, 'tnt': 1, 'productions': 1, 'neal': 3, 'tru': 1, 'cartoon': 1, 'icy': 1, 'hot': 1, 'represented': 2, 'advertisements': 3, 'boosted': 1, 'commercials': 3, 'ncaa': 1, 'madness': 1, 'zyloware': 1, 'eyewear': 2, 'shaq-branded': 1, 'winter': 1, 'bloomsbury': 1, 'publishing': 2, 'teamed': 2, 'shaq': 6, 'shelves': 1, 'playstudios': 1, 'licensing': 5, 'caddyshaq': 1, 'shaqjack': 1, 'allowing': 1, 'players': 2, 'earn': 1, 'rewards': 1, 'on-screen': 1, 'wins': 1, 'kindle': 1, 'android': 1, 'ios': 1, 'accessory': 1, 'innovations': 1, 'accessories': 1, 'backpacks': 1, 'hats': 1, 'retailers': 3, 'fruity': 1, 'pebbles': 1, 'boxes': 3, 'date': 2, 'anheuser-busch': 2, 'china': 3, 'airing': 1, 'pvh': 1, 'corp': 2, 'dress': 1, 'shirts': 1, 'ties': 1, 'sizes': 2, 'macy': 2, 'half-time': 1, 'xbox': 1, 'playstation': 1, 'pc': 1, 'app': 4, 'monster': 2, 'packaging': 1, 'powercard': 1, 'portable': 1, 'phone': 1, 'charger': 1, 'superstar': 1, 'bluetooth': 1, 'berkshire': 1, 'fashions': 1, 'cold': 1, 'weather': 1, 'gear': 1, 'outerwear': 1, 'gloves': 1, 'beanies': 1, 'zales': 2, 'offers': 2, 'stainless': 1, 'steel': 1, 'men': 2, 'offered': 1, 'recharging': 1, 'plus': 2, 'relationship': 3, 'attaq': 1, 'shaqnosis': 1, 'shoes': 2, 'arizona': 1, 'beverage': 2, 'face': 4, 'fu': 2, 'punch': 1, 'soda': 1, 'latter': 1, 'history': 2, 'cans': 1, 'peerless': 1, 'clothing': 1, 'includes': 8, 'jackets': 1, 'sport': 1, 'coats': 1, 'suits': 1, 'pants': 1, 'bond': 3, 'gone': 1, 'fifth-best': 1, 'lotion': 1, 'grand': 4, 'central': 5, 'bestseller': 1, 'autobiography': 1, 'uncut': 1, 'collaboration': 4, 'veteran': 1, 'writer': 1, 'jackie': 1, 'macmullan': 1, 'espn': 1, 'formerly': 2, 'aci': 1, 'pairs': 1, 'dunkman': 1, 'walmart': 1, 'sporting': 1, 'goods': 3, 'jcpenney': 1, 'association': 2, 'drafted': 2, 'draft': 1, 'pick': 1, 'orlando': 1, 'magic': 1, 'rookie': 1, 'proudly': 1, 'wore': 1, 'jersey': 1, 'franchises': 1, 'lakers': 1, 'championships': 1, 'miami': 1, 'heat': 1, 'mvp': 1, 'finals': 1, 'whole': 2, 'two-time': 1, 'scoring': 1, 'participated': 1, 'lsu': 1, \"bachelor's\": 4, 'phoenix': 1, 'barry': 1, 'www.linkedin.com/in/priscilla-': 1, 'chan-a': 1, 'healthcare': 8, 'priscilla': 1, 'chan': 3, 'hospital': 1, 'trauma': 1, 'pediatrician': 1, 'ucsf': 1, 'pediatrics': 1, 'resident': 1, 'rachelnpeterson': 1, 'rachel': 1, 'peterson': 2, 'mit': 3, 'batteries': 1, 'fuel': 3, 'cells': 2, 'electric': 2, 'vehicles': 1, 'importance': 2, 'tension': 1, 'residual': 1, 'water': 2, 'fabrics': 1, 'native': 9, 'cos': 1, 'matter': 2, 'toothpaste': 1, 'less': 9, 'tesla': 6, 'motors': 1, 'battery': 1, 'ers': 1, 'cheerleader': 1, 'fluidic': 1, 'chemical': 2, 'cambrian': 1, 'summer': 12, 'microbial': 1, 'www.linkedin.com/in/kevinsystrom': 1, 'instagram.com': 1, 'systrom': 1, 'instagram': 4, 'nextstop.com': 1, 'associate': 13, 'odeo': 2, 'mayfield': 1, 'fellows': 1, 'stanford': 27, 'widget': 1, 'caused': 2, 'trouble': 1, 'www.linkedin.com/in/linustorvalds': 1, 'kernel.org': 1, 'git.or.cz/': 1, 'linux': 6, 'git': 3, 'scuba': 1, 'diving': 1, 'bilingual': 8, 'finnish': 1, 'swedish': 1, 'linus': 1, 'torvalds': 1, 'portland': 1, 'main': 1, 'kernel': 1, 'developer': 3, 'still': 2, 'maintainer': 2, 'architect': 1, 'source': 4, 'control': 3, 'longer': 1, 'programming': 6, 'labs': 8, 'osdl': 1, 'name': 1, 'merger': 1, 'lsb': 1, 'transmeta': 1, 'helsinki': 1, 'msc': 3, 'helsingin': 1, 'yliopisto': 1, 'stockholm': 1, 'www.linkedin.com/in/ian-': 1, 'goodfellow-b': 1, 'ian': 1, 'goodfellow': 1, 'machine': 67, 'artificial': 27, 'intelligence': 39, 'italian': 1, 'limited': 4, 'generative': 4, 'adversarial': 2, 'multi-digit': 1, 'number': 7, 'recognition': 20, 'imagery': 2, 'deep': 50, 'convolutional': 6, 'challenges': 3, 'physical': 1, 'implementations': 1, 'rbms': 1, 'industry': 15, 'staff': 10, 'openai': 6, 'brain': 2, 'writing': 3, 'textbook': 1, 'thesis': 7, 'advisors': 2, 'www.deeplearningbook.org': 1, 'contributed': 1, 'tensorflow': 2, 'method': 3, 'generating': 1, 'examples': 1, 'improve': 8, 'bunch': 1, 'visualizations': 3, 'showing': 1, 'loss': 1, 'functions': 1, 'scary': 1, 'obstacles': 1, 'tianqi': 1, 'chen': 1, 'transferring': 1, 'knowledge': 7, 'smart': 3, 'capable': 1, 'reading': 2, 'numbers': 1, 'add': 1, 'update': 1, 'location': 4, 'houses': 1, 'within': 5, 'deployment': 3, 'willow': 1, 'garage': 1, 'now-closed': 1, 'iconic': 1, 'robotics': 7, 'université': 1, 'de': 2, 'montréal': 1, 'www.linkedin.com/in/andrej-': 2, 'karpathy-a': 2, 'karpathy.ai/': 2, 'graphics': 5, 'andrej': 2, 'karpathy': 2, 'artifical': 4, 'nets': 3, 'datasets': 5, 'twitter': 11, 'https://twitter.com/karpathy': 2, 'webpage': 2, 'https://karpathy.ai/': 2, 'autopilot': 3, 'aspects': 5, 'gathering': 2, 'labeling': 2, 'tooling': 3, 'training': 9, 'segmentation': 3, 'temporal': 3, 'prediction': 6, 'running': 2, 'custom': 4, 'chip': 4, 'bit': 2, 'biased': 3, 'valuable': 2, 'problem': 2, 'recruiting': 5, 'structuring': 2, 'image': 13, 'pixelcnn': 2, 'reinforcement': 10, 'controlling': 2, 'keyboard': 2, 'mouse': 2, 'accomplish': 2, 'tasks': 5, 'interfaces': 2, 'filling': 2, 'forms': 2, 'novel': 2, 'recurrent': 2, 'applications': 9, 'natural': 6, 'processing': 8, 'intersection': 3, 'example': 2, 'translating': 2, 'images': 2, 'captioning': 2, 'conversely': 2, 'retrieval': 6, 'queries': 4, 'n': 2, 'visual': 6, 'largest': 4, 'enrolled': 2, 'http': 2, ':/': 4, 'csn.stanford.edu/': 2, 'deepmind': 2, 'london': 6, 'uk': 2, 'model-based': 3, 'unsupervised': 5, 'british': 2, 'toronto': 5, 'bsc': 2, 'physics': 4, 'vinayapolamreddi': 1, 'vinaya': 1, 'polamreddi': 1, 'ai': 97, 'grad': 1, 'spanish': 2, 'telugu': 2, 'exploration': 1, \"student's\": 1, 'rule': 1, 'application': 2, 'references': 1, 'propositional': 1, 'logic': 3, 'tutor': 1, 'gave': 2, 'conference': 7, 'scaling': 1, 'state-of-the-art': 1, 'optical': 3, 'https': 2, 'lnkd.in/gpirugm': 1, 'challenging': 2, 'pinterest': 2, 'fidelity': 2, 'recognizing': 1, 'dozen': 1, 'zero': 1, 'infra': 1, 'frame': 1, 'ocr': 3, 'process': 6, 'efficient': 3, 'https://lnkd.in/': 1, 'gpirugm': 1, 'localized': 1, 'embeddings': 1, 'rich': 1, 'representations': 1, 'cases': 5, 'graduate': 17, 'teaching': 15, 'mining': 6, 'massive': 1, 'teach': 3, 'classes': 1, 'curriculum': 3, 'assignments': 2, 'tests': 1, 'ads': 1, 'targeting': 1, 'performing': 1, 'applied': 13, 'messenger': 3, 'admin': 3, 'messages': 3, 'backend': 1, 'api': 3, 'converted': 5, 'implement': 3, 'changes': 5, 'stack': 3, 'refactored': 1, 'mark': 3, 'read': 4, 'pipeline': 5, 'incremental': 1, 'receipt': 1, 'operations': 6, 'cleaner': 1, 'performant': 1, 'planned': 1, 'simple': 1, 'discovery': 3, 'automated': 2, 'object': 3, 'scripts': 1, 'objects': 4, 'parts-based': 1, 'algorithm': 3, 'salient': 1, 'instead': 1, 'learned': 2, 'map-reduce': 1, 'cascading': 1, 'understand': 4, 're-ranking': 1, 'user': 6, 'feedback': 1, 'clicks': 1, 'repins': 1, 'offline': 1, 'gather': 1, 'aggregate': 1, 'load': 1, 'real-time': 3, 'rerank': 1, \"microsoft's\": 1, 'version': 3, 'tfvc': 1, 'versioning': 1, 'shelvesets': 1, 'pending': 1, 'repository': 1, 'consideration': 1, 'compatibility': 1, 'restful': 1, 'apis': 2, 'clients': 12, 'server': 3, 'functionality': 1, 'stored': 1, 'procedures': 1, 'side': 2, 'tfs': 1, 'command': 1, 'tools': 6, 'client': 7, 'investments': 6, '•': 4, 'units': 1, 'analyze': 3, 'requirements': 2, 'executed': 1, 'web-services': 1, 'mainframe': 1, 'transmissions': 1, 'rumba': 1, 'internal': 3, 'qc': 1, 'alm': 1, 'black-box': 1, 'end-to-end': 2, 'acceptance': 1, 'outline': 1, 'uat': 1, 'filed': 1, 'defects': 1, 'developers': 1, 'debug': 1, 'performed': 5, 'validation': 1, 'implementation': 4, 'qtp': 1, 'automate': 1, 'sql': 1, 'ignite': 1, 'carolina': 2, 'state': 9, 'chapel': 1, 'www.linkedin.com/in/aishwarya-': 1, 'srinivasan': 2, 'aishgrt.wixsite.com/': 1, 'thepeculiarunicorn': 1, 'www.the-peculiar-unicorn.com/': 1, 'statistical': 7, 'malayalam': 1, 'tamil': 3, 'certifications': 5, 'ibm': 18, 'presenter': 1, 'intellectual': 2, 'property': 1, 'educator': 2, 'thinking': 1, 'practitioner': 1, 'inheritance': 1, 'handwriting': 8, 'cloud': 16, 'use-cases': 1, 'hybrid': 3, 'computing': 6, 'insight': 3, 'patents': 1, 'aishwarya': 1, 'scientist-ibm': 1, 'ds': 1, 'elite': 2, 'followers': 3, 'unicorn': 1, 'wids': 1, 'scikit-learn': 3, 'contributor': 2, 'researcher': 7, 'goldman': 2, 'sachs': 2, 'capstone': 2, 'jared': 1, 'finding': 2, 'similarity': 1, 'indexes': 1, 'institutes': 1, 'clinical': 2, 'trial': 1, 'aact': 1, 'exploring': 3, 'alternative': 1, 'advanced': 2, 'short': 1, 'irving': 1, \"patient's\": 2, 'ehr': 1, 'rate': 1, 'blood': 1, 'pressure': 1, 'response': 3, 'operation': 1, 'forecasting': 1, 'detect': 1, 'seizure': 3, 'patients': 1, 'multi-level': 1, 'analyzed': 2, 'warping': 1, 'methods': 6, 'varying': 2, 'lengths': 1, 'unequal': 1, 'intervals': 1, 'scikit': 2, 'extension': 1, 'prof': 2, 'andreas': 1, 'mueller': 1, 'python': 5, 'library': 4, 'containing': 1, 'metrics': 1, 'implementing': 3, 'workflows': 1, 'usage': 2, 'open-source': 1, 'extend': 1, 'findings': 1, 'identify': 2, 'problematic': 2, 'ways': 2, 'interface': 1, 'itech': 1, 'pvt': 2, 'ltd': 2, 'delhi': 10, 'india': 20, 'internship': 2, 'accomplished': 1, 'following': 2, 'websites': 2, 'undp': 1, 'unicef': 1, 'filtering': 1, 'djs': 1, 'predominantly': 1, 'power': 3, 'bi': 1, 'tableau': 1, 'photoshop': 1, 'info': 2, 'correlating': 1, 'gst': 1, 'brics': 1, 'meet': 1, 'ocean': 2, 'sdgs': 1, 'extensive': 4, 'whitepapers': 1, 'sdg': 1, 'respectively': 1, 'whilst': 1, 'term': 1, 'challenge': 3, 'visualization': 1, 'un-desa': 1, 'hyderabad': 3, 'bing': 2, 'nlp': 6, 'skype': 1, 'chatbot': 4, 'campus': 1, 'fulfilling': 1, 'broad': 1, 'criteria': 1, 'functional': 1, 'botframework': 1, 'azure': 2, 'cognitive': 4, 'services': 25, 'luis.ai': 1, 'rest': 1, 'imi': 3, 'capacity': 2, 'utilization': 2, 'index': 3, 'papers': 2, 'white': 2, 'gain': 3, 'theoretical': 2, 'hypothesis': 2, 'regarding': 1, 'iip': 1, 'prove': 1, 'indian': 8, 'informatics': 3, 'centre': 1, 'restaurant-customer': 1, 'ratings': 1, 'sources': 1, 'data.gov.in': 1, 'done': 7, 'dependent': 1, 'factors': 3, 'influence': 1, 'rating': 3, 'restaurant': 1, 'predictive': 4, 'customer': 9, 'different': 1, 'pre-processing': 2, 'dataset': 3, 'qualitative': 2, 'quantitative': 3, 'cleaning.the': 1, 'table': 1, 'entity': 2, 'diagram': 1, 'correlation': 1, 'linear': 1, 'regression': 2, 'anova': 1, 'later': 3, 'results': 6, 'rather': 1, 'uses': 1, 'descriptive': 1, 'examine': 1, 'occur': 2, 'predict': 1, 'target': 3, 'mutual': 4, 'influenced': 1, 'mostly': 1, 'indirect': 1, 'technological': 1, 'gross': 1, 'profit': 2, 'margin': 2, 'invested': 2, 'bonds': 2, 'buy': 1, 'net': 3, 'gets': 1, 'returns': 1, 'purpose': 3, 'virtual': 2, 'highly': 4, 'confidential': 1, 'entirely': 1, 'generated': 2, 'extracting': 2, 'profile': 1, 'streaming': 2, 'wired': 2, 'rstudio': 1, 'coded': 2, 'analytical': 2, 'namely': 2, 'composed': 1, 'particular': 5, 'subject': 1, 'size': 1, 'indicates': 1, 'frequency': 2, 'sentiment': 4, 'computationally': 1, 'identifying': 1, 'categorizing': 1, 'opinions': 1, 'expressed': 1, 'piece': 1, \"writer's\": 1, 'attitude': 1, 'towards': 2, 'topic': 3, 'positive': 1, 'negative': 1, 'neutral': 1, 'activity': 2, 'monitoring': 5, 'uam': 1, 'visualize': 1, 'activeness': 1, 'posts': 3, 'sharing': 1, 'liking': 1, 'commenting': 1, 'inferences': 1, 'one-sliders': 1, 'consisted': 1, 'inspected': 1, 'market': 10, 'dr': 3, 'neena': 1, 'sondhi': 1, 'consultancy': 3, 'alumnus': 1, 'merit': 2, 'holder': 1, 'faculty': 3, 'successfully': 1, 'administrative': 1, 'co-mentored': 1, 'chhavi': 1, 'mehta': 1, 'completed': 1, 'iit': 1, 'empirical': 2, 'iim': 1, 'calcutta': 1, 'survey': 2, 'stock': 2, 'analyse': 3, 'ease': 3, 'cleaning': 1, 'aim': 3, 'satisfaction': 1, 'enhancement': 2, 'spss': 2, 'tata': 2, 'chennai': 1, 'nse': 1, 'bse': 1, 'sensex': 2, 'nifty': 2, 'parameters': 1, 'textile': 1, 'extracted': 1, 'decline': 1, 'effect': 1, 'modeling': 4, 'directv': 1, 'usa': 2, 'transmission': 2, 'encryption': 2, 'receive': 1, 'transmit': 1, 'receiver': 1, 'matlab': 3, 'forensic': 1, 'dependency': 1, 'studied': 2, 'uniform': 1, 'samples': 2, 'father': 2, 'grandparents': 1, 'kids': 3, 'siblings': 1, 'characteristics': 1, 'inherited': 1, 'similar': 1, 'slant': 1, 'kurtosis': 1, 'skewness': 1, 'gap': 2, 'inter-word': 1, 'inter-line': 1, 'spaces': 1, 'analysed': 1, 'well-appreciated': 1, 'researchers': 3, 'got': 3, 'published': 3, 'refereed': 1, 'journal': 3, 'vellore': 1, 'b.tech': 2, 'www.linkedin.com/in/andrewyng': 1, 'www.coursera.org': 1, 'www.cs.stanford.edu/~ang/': 1, 'introduction': 1, 'sound': 2, 'andrew': 2, 'ng': 1, 'landing': 4, \"we're\": 9, 'hiring': 7, ');': 1, 'deeplearning.ai': 3, 'http://andrewng.org': 1, 'apply': 1, 'https://www.landing.ai/career': 1, 'leverage': 1, 'size-fits-all': 1, 'adopting': 2, 'holds': 3, 'domain': 2, 'historical': 1, 'distinct': 1, 'ai-powered': 2, 'saas': 4, 'corporate-level': 1, 'transformation': 7, 'specialization': 1, 'coursera': 10, 'https://www.deeplearning.ai/': 1, 'ground': 2, 'bridge': 2, 'problems': 3, 'move': 1, 'logistics': 3, 'nutrition': 3, 'partnering': 2, 'offer': 1, 'persons': 1, 'http://ml-class.org/': 1, 'adjunct': 2, 'woebot': 2, 'struggle': 1, 'mental': 4, 'depression': 3, 'cause': 1, 'disability': 1, 'campuses': 1, 'anxiety': 1, 'severe': 1, 'drive.ai': 2, 'self-driving': 1, 'baidu': 2, \"baidu's\": 2, 'delivery': 3, 'voice': 3, 'security': 2, 'initiating': 1, 'launching': 1, 'dueros': 1, 'conversational': 3, 'autonomous': 3, 'driving': 2, 'others': 3, 'able': 3, \"google's\": 4, 'computational': 2, 'resources': 3, 'famous': 1, 'cat': 1, 'result': 1, 'recognize': 1, 'cats': 1, 'simply': 1, 'watching': 1, 'usefully': 1, 'deployed': 3, 'streetview': 1, 'http://www.nytimes.com///': 1, 'in-a-big-network-of-computers-evidence-of-machine-learning.html': 1, 'pagewanted': 1, 'www.linkedin.com/in/shivonzilis': 1, 'shivon': 1, 'zilis': 1, 'neuralink': 2, 'beta': 5, ':)': 1, 'destruction': 2, 'incubator': 3, 'ajay': 1, 'agrawal': 2, 'foresight': 1, 'specific': 2, 'track': 1, 'startups': 11, 'cohort': 1, 'nyc': 1, 'israel': 1, 'http://www.creativedestructionlab.com/': 1, 'alberta': 3, 'amii': 1, 'pioneered': 1, 'hub': 1, 'talent': 11, 'vector': 2, 'dedicated': 4, 'transformative': 1, \"i've\": 1, 'laser': 2, 'particularly': 1, 'solving': 1, 'agriculture': 1, 'transportation': 2, \"we've\": 1, 'powered': 1, 'github.com/bloomberg-beta/manual': 1, 'musings': 1, 'intelligene': 1, 'www.shivonzilis.com': 1, 'charter': 2, 'member-driven': 1, 'canadian': 1, 'incubation': 1, 'data-as-a-service': 1, 'strategist': 1, 'incubating': 1, 'microfinance': 2, 'smarter': 1, 'solution': 1, 'banking': 2, 'disruptions': 1, 'payments': 1, 'thought': 1, 'yale': 1, 'www.linkedin.com/in/anima-': 1, 'anandkumar': 3, 'users.cms.caltech.edu/~anima': 1, 'aws.amazon.com/machine-': 1, 'signal': 1, 'anima': 4, 'ml': 11, 'nvidia': 4, 'bren': 5, 'caltech': 5, 'animashree': 1, 'cms': 2, 'spans': 2, 'practical': 2, 'large-scale': 7, 'spearheaded': 1, 'tensor': 1, 'principal': 5, 'amazon': 6, 'enabled': 2, 'recipient': 2, 'chair': 3, 'professorship': 1, 'alfred': 1, 'sloan': 1, 'investigator': 1, 'air': 1, 'force': 1, 'army': 1, 'fellowships': 1, 'paper': 1, \"forum's\": 1, 'expert': 1, 'consisting': 1, 'academia': 1, 'documentaries': 1, 'pbs': 1, 'kpcc': 1, 'articles': 2, 'review': 1, 'yourstory': 1, 'reilly': 1, 'co-director': 2, 'dolcit': 2, 'scientific': 3, 'cast': 1, 'democratize': 1, 'promote': 1, 'ethical': 1, 'inclusion': 1, 'nytimes': 1, 'joined': 1, 'engineers': 6, 'interns': 1, 'norc': 1, 'mathematical': 3, 'sciences': 4, 'aws': 3, 'sagemaker': 1, 'apache': 1, 'mxnet': 1, 'rekognition': 1, 'lex': 1, 'comprehend': 1, 'https://aws.amazon.com/amazon-ai/': 1, 'uc': 1, 'irvine': 2, 'postdoctoral': 2, 'alan': 1, 'willsky': 1, 'laboratory': 2, 'cornell': 2, 'estimation': 1, 'sensor': 1, 'j': 1, 'watson': 6, 'transaction': 1, 'proposed': 1, 'matching': 1, 'derived': 2, 'guarantees': 1, 'madras': 1, 'iisc': 1, 'www.linkedin.com/in/aaksham': 1, 'aaksha': 1, 'meghawat': 1, 'music': 7, 'guitar': 1, 'distinction': 4, 'toolbox': 1, 'swartz': 1, 'mantra': 1, 'silver': 2, 'athletics': 3, 'measure': 2, 'impact': 6, 'cool': 1, 'mean': 1, 'plunged': 1, 'cerebral': 1, 'human-machine': 1, 'frontier': 1, 'cmu': 2, 'combine': 3, 'capabilities': 1, 'complexities': 1, 'lots': 1, 'viewed': 1, 'transformed': 2, 'perspective': 3, 'enhance': 1, 'decisions': 3, 'speed': 2, 'quality': 5, 'objective': 2, 'spent': 3, 'processes': 1, 'acquiring': 2, 'indepth': 1, 'cutting-edge': 1, 'rigorous': 2, 'perspectives': 1, 'impactful': 1, 'dri': 1, 'hyper-local': 1, 'improved': 4, 'asr': 2, 'iphone': 1, 'enus': 1, 'engb': 1, 'enau': 1, 'dede': 1, 'frfr': 1, 'zhcn': 1, 'servicing': 1, 'daily': 1, 'summit': 2, 'title': 1, 'representation': 1, 'theatre': 1, 'siri': 1, 'techcrunch': 2, 'carnegie': 2, 'mellon': 2, 'pittsburgh': 1, '\\uf0b7': 5, 'adapting': 1, 'skip-thoughts': 1, 'lstms': 1, 'transfer': 1, 'agents': 1, 'alexa': 1, 'combined': 1, 'cnns': 1, 'emotion': 1, 'opinion': 2, 'arxiv': 1, 'link': 1, 'icme': 1, 'eric': 2, 'xing': 1, 'morency': 1, 'boltzmann': 1, 'machines': 2, 'handwritten': 1, 'digits': 1, 'finite': 1, 'markov': 1, 'frozenlake': 1, 'gym': 1, 'experimented': 1, 'gaussian': 1, 'hmms': 1, 'pca': 1, 'discourse': 1, 'github': 3, 'http://bit.ly/hxJWpB': 1, 'nsf': 1, 'bigdata': 1, 'sutherland': 1, 'mumbai': 3, '►': 20, 'signature': 2, 'toolkit': 2, 'streamline': 1, 'textual': 1, 'pipelines': 2, 'summarization': 1, 'geospatial': 1, 'googlemaps': 1, 'unified': 1, 'in-house': 3, 'morgan': 1, 'stanley': 1, 'automation': 2, 'risk': 2, 'verify': 1, 'covering': 2, 'possible': 2, 'combinations': 1, 'parameter': 1, 'compared': 1, 'increase': 1, 'accuracy': 1, 'robustness': 1, 'kingdom': 2, 'redesigned': 1, '‘': 10, 'simulation': 1, 'elective': 1, 'funds': 1, 'lbs': 1, 'ranked': 1, 'postgresql': 1, 'django': 1, 'brevan': 1, 'howard': 3, 'fundamentals': 4, 'credit': 6, 'derivative': 2, 'swaps': 1, 'indices': 1, 'calibration': 1, 'default': 1, 'probabilities': 1, 'cds': 1, 'pricing': 1, 'curves': 1, 'mentored-research': 1, 'formulated': 1, 'publicly-traded': 1, 'communicated': 1, 'www.mentored-research.com': 1, 'bits': 5, 'pilani': 7, 'out-of-box': 2, 'conclave': 1, 'geeks': 1, 'scientists': 5, 'geniuses': 1, 'rebels': 1, 'ted': 3, 'format': 1, 'instrumental': 1, 'getting': 1, 'revolutionaries': 1, 'alphonse': 1, 'kannanthanam': 1, 'vasu': 1, 'dixit': 1, 'namperumalsamy': 1, 'speakers': 2, 'event': 1, 'competition': 2, 'conquest': 1, 'birla': 2, 'captain': 1, 'athletes': 1, 'participate': 2, 'bosm': 1, 'cup': 1, 'tournament': 1, 'ii': 3, 'prepared': 2, 'material': 2, 'sessions': 1, 'excellent': 1, 'watconsult': 1, 'agency': 2, 'watblog': 1, 'shares': 1, 'programmers': 1, 'suite': 3, 'simulate': 1, 'optimize': 1, 'turtle': 1, 'richard': 1, 'dennis': 1, 'enabling': 2, 'heuristic': 1, 'amounts': 1, 'hons': 1, 'continuing': 1, 'studies': 3, 'european': 3, 'lilavatibai': 1, 'podar': 1, 'cisce': 1, 'xii': 1, 'sahyadri': 1, 'krishnamurti': 1, 'icse': 1, 'x': 3, 'www.linkedin.com/in/yann-': 1, 'lecun-b': 1, 'yann.lecun.com': 1, 'www.cs.nyu.edu/~yann': 1, 'eeg': 2, 'synchronization': 1, 'high-resolution': 1, 'plant': 1, 'transcriptome': 1, 'nitrate': 1, 'moving': 1, 'architectures': 2, 'comparing': 1, 'svm': 1, 'epileptic': 1, 'intracranial': 1, 'directions': 1, 'yann': 1, 'lecun': 1, 'vp': 4, 'intelligent': 1, 'compression': 4, 'fair': 1, 'paris': 2, 'bringing': 2, 'advances': 1, 'part-time': 1, 'basis': 1, 'cofounder': 5, 'elements': 2, 'biometrics': 1, 'museami': 2, 'courant': 1, 'neuroscience': 2, 'element': 1, 'develops': 1, 'software-based': 1, 'biometric': 1, 'authentication': 1, 'hardware': 4, 'apps': 2, 'improvox': 1, \"hook'd\": 1, 'musicpal': 1, 'ylc': 1, 'llc': 4, 'owner': 2, 'nec': 1, 'princeton': 3, 'nj': 3, 'middletown': 1, 'pattern': 2, 'characters': 1, 'yoshua': 1, 'bengio': 1, 'leon': 1, 'bottou': 1, 'cosatto': 1, 'hans-peter': 1, 'graf': 1, 'patrick': 1, 'haffner': 1, 'jie': 1, 'huang': 1, 'jörn': 1, 'ostermann': 1, 'patrice': 1, 'simard': 1, 'vladimir': 1, 'vapnik': 1, 'bell': 1, 'laboratories': 1, 'holmdel': 1, 'carried': 1, 'verification': 1, 'integrated': 2, 'circuits': 1, 'recogntiion': 1, 'thales': 1, 'laboratoire': 1, 'recherche': 1, 'postdoc': 2, 'geoff': 1, \"hinton's\": 1, 'pierre': 1, 'marie': 1, 'curie': 1, 'esiee': 1, 'www.linkedin.com/in/jeff-': 1, 'dean-b': 1, 'recommender': 1, 'dean': 1, 'co-designer': 10, 'co-implementor': 2, 'generations': 1, 'crawling': 1, 'indexing': 2, 'query': 3, 'http://www.google.com': 1, 'documents': 1, 'searched': 1, 'handled': 2, 'per': 1, 'second': 1, 'updates': 2, 'implementor': 9, 'mapreduce': 1, 'simplifying': 1, 'clusters': 1, 'bigtable': 1, 'semi-structured': 1, 'underneath': 1, 'approximately': 1, 'designer': 3, 'adsense': 1, 'ad': 1, 'selection': 2, 'contents': 1, 'pages': 2, 'translate': 1, 'translation': 1, 'distributed': 3, 'high-speed': 1, 'fit': 1, 'memory': 1, 'single': 1, 'low-level': 1, 'libraries': 1, 'productivity': 3, 'spanner': 1, 'signficant': 1, 'improvements': 2, 'substantial': 1, 'involvement': 1, 'mysimon': 1, 'retrieving': 1, 'caching': 1, 'electronic': 1, 'crawler': 1, 'full-text': 1, 'allows': 1, 'flexible': 2, 'keyword': 1, 'searching': 1, 'scalability': 1, 'comparison': 2, 'increasing': 1, 'simultaneous': 1, 'requests': 1, 'could': 1, 'integrating': 1, 'specifications': 1, 'tracking': 4, 'logs': 1, 'performs': 1, 'analyses': 1, 'western': 2, 'compaq': 1, 'continuous': 2, 'profiling': 1, 'low': 2, 'overhead': 1, 'attribute': 1, 'cache': 2, 'misses': 2, 'branch': 2, 'mispredicts': 2, 'directly': 3, 'instructions': 2, 'inventor': 2, 'profileme': 1, 'technique': 1, 'out-of-order': 1, 'microprocessors': 2, 'incurring': 1, 'debilitating': 1, 'relatively': 1, 'cost': 2, 'alpha': 2, 'starting': 1, 'www': 1, 'exploit': 1, 'connectivity': 1, 'structure': 2, 'graph': 1, 'ranking': 1, 'transferred': 1, 'swift': 2, 'optimizing': 3, 'compiler': 2, 'outperformed': 1, 'reported': 1, 'specjvm': 1, 'benchmark': 1, 'fastest': 3, 'invented': 1, 'techniques': 3, 'object-oriented': 1, 'commercial': 1, 'compilers': 1, 'implementors': 1, 'vortex': 1, 'cecil': 1, 'introductory': 1, 'minnesota': 1, 'www.linkedin.com/in/balamanohar': 1, 'sites.google.com/site/balamanohar/': 1, 'www.gatech.edu/': 1, 'gui': 1, 'hindi': 2, 'manohar': 1, 'paluri': 1, 'excited': 1, 'walk': 1, 'uncanny': 1, 'thriving': 1, 'environments': 1, 'push': 2, 'frontiers': 2, 'multi-modal': 3, 'prototyping': 1, \"facebook's\": 2, 'pushing': 2, 'sit': 1, 'sparse': 1, 'reconstruction': 1, 'ceres': 1, 'showed': 1, 'sf': 5, 'left': 1, 'told': 1, 'whatever': 1, 'shipped': 1, 'georgia': 4, 'pursuing': 1, 'hawthorne': 1, 'surveillance': 2, 'anomaly': 1, 'sarnoff': 2, 'lidar': 1, 'spanned': 1, 'contour': 1, 'cinematography': 1, 'volleyball': 1, 'football': 1, 'gsr': 1, 'chemistry': 1, 'shree': 1, 'rang': 1, 'vidhyalaya': 1, 'www.linkedin.com/in/lisadbarnett': 2, 'lisabarnett.net': 2, 'littlespoon.com': 2, 'competitive': 2, 'collegiate': 2, 'lisa': 6, 'barnett': 4, 'cmo': 4, 'spoon': 8, 'growing': 5, 'direct-to-consumer': 2, 'reinventing': 2, 'keeping': 2, 'decade': 3, 'operator': 2, 'estee': 4, 'lauder': 6, 'calvin': 2, 'klein': 2, 'weight': 2, 'watchers': 2, 'brand-driven': 2, 'aimed': 2, 'everyday': 2, 'cpg': 2, 'space': 3, 'parenting': 4, 'easier': 2, 'creates': 2, 'fresh': 2, 'meals': 4, 'nutritional': 2, 'babies': 2, 'ships': 2, 'counting': 2, 'check': 2, 'normal': 2, 'www.isthisnormal.co': 2, 'sherpa': 6, 'foundry': 4, 'incubate': 2, 'facilitate': 2, 'dorm': 4, 'philadelphia': 2, 'subsidary': 2, 'round': 2, 'maveron': 6, 'dan': 2, 'levitan': 2, 'schultz': 2, \"maveron's\": 2, 'ebay': 2, 'capella': 2, 'drugstore.com': 2, 'shutterfly': 2, 'everlane': 2, 'julep': 2, 'zulily': 2, 'assembly': 2, 'seed': 2, 'emphasis': 2, 'web-enabled': 2, 'estée': 2, 'transactions': 2, 'enter': 2, 'channels': 2, 'dtc': 4, 'ecommerce': 2, 'launchpad': 4, 'island': 2, 'accelerator': 2, 'coworking': 2, 'early-stage': 2, 'viable': 2, 'e-commerce': 2, 'bcg': 2, 'consultant': 7, 'grow': 2, 'entering': 2, 'segments': 2, 'insights': 3, 'scholar': 3, 'operating': 3, 'outsourcing': 3, 'asset': 2, 'acp': 4, 'sydney': 2, 'umbrella': 2, 'australian': 2, 'geographic': 2, 'outdoor': 2, 'cosmopolitan': 2, 'cleo': 2, \"women's\": 3, 'gourmet': 2, 'subscriber': 2, 'retention': 2, 'flowers.com': 2, 'communication': 2, 'www.linkedin.com/in/shivanisiroya': 1, 'www.tala.co': 1, 'shivani': 4, 'siroya': 2, 'tala': 10, 'santa': 2, 'monica': 2, 'diligence': 1, 'valuation': 1, 'gujarati': 1, 'borrowed': 1, 'smartphone': 2, 'personalized': 3, 'southeast': 1, 'asia': 1, 'latin': 1, 'backed': 1, 'paypal': 1, 'ivp': 1, 'ribbit': 1, 'lowercase': 1, 'earlier': 1, 'fintech': 1, \"tala's\": 1, 'highlighted': 2, 'nairobi': 1, 'manila': 1, 'mexico': 1, 'bangalore': 1, 'variety': 1, 'positions': 1, 'citigroup': 2, 'ubs': 2, 'aspen': 1, 'wef': 1, 'ashoka': 1, 'stellar': 1, 'h': 2, 'wesleyan': 2, 'inventure': 1, 'unlocking': 1, 'instantly': 1, 'evaluates': 1, 'understands': 1, 'devices': 1, 'delivers': 1, 'customized': 1, 'minutes': 1, 'forum': 4, 'geneva': 1, 'switzerland': 1, 'bold': 1, 'brave': 1, 'action-oriented': 1, 'individuals': 3, 'commit': 1, 'portion': 1, 'jointly': 1, 'shape': 2, 'thereby': 1, 'not-for-profit': 1, 'swiss': 1, 'integral': 1, 'janani': 1, 'vanthasali': 1, 'earth': 1, 'pricewaterhousecoopers': 1, 'suisse': 2, 'mph': 1, 'econometrics': 1, 'www.linkedin.com/in/lori-': 1, 'greiner': 2, 'www.lorigreiner.com': 1, 'shark': 7, \"abc's\": 3, 'tank': 3, 'friday': 2, 'nights': 2, 'invent': 1, 'sell': 1, 'reality': 2, 'lori': 1, 'dupage': 1, 'county': 1, 'qvc': 2, 'clever': 2, 'creations': 2, 'watch': 1, 'appear': 1, 'www.linkedin.com/in/rohita-': 1, 'joshi-ba': 1, 'www.ventrum.com': 1, 'sourcing': 6, 'rohita': 1, 'joshi': 1, 'fremont': 1, 'ventrum': 3, 'prides': 1, 'recruitment': 2, 'staffing': 4, 'firms': 1, 'attract': 1, 'pool': 1, 'nurturing': 1, 'ethics': 1, 'solid': 1, 'amongst': 1, 'motivated': 1, 'proven': 2, 'methodologies': 1, 'handpicking': 1, 'respect': 1, 'cultures': 1, 'world-class': 1, 'constantly': 2, 'long-term': 1, 'therefore': 2, 'envision': 1, 'drivers': 1, 'cost-effectiveness': 1, 'expertise': 3, 'collaborate': 1, 'diligente': 4, 'woman': 2, 'minority': 1, 'owned': 1, 'support': 2, 'proactively': 1, 'deliver': 5, 'service-centered': 1, 'qualified': 2, 'sufficient': 1, 'skilled': 1, 'completion': 2, 'mid-size': 1, 'contract': 2, 'hire': 2, 'direct': 1, 'consistently': 1, 'excellence': 3, 'unsurpassed': 1, 'productive': 1, 'everlasting': 1, 'thrives': 1, 'honesty': 1, 'integrity': 1, 'loyalty': 1, 'teksystems': 1, 'saint': 1, \"mary's\": 1, 'convent': 1, 'kumaun': 1, 'www.linkedin.com/in/parag-': 1, 'agrawal-aa': 1, 'parag': 1, 'distinguished': 1, 'bombay': 1, 'atomic': 1, 'andrewmcuomo': 1, 'cuomo': 1, 'governor': 3, 'albany': 4, 'fisherman': 1, 'motorcycle': 1, 'enthusiast': 1, 'attorney': 2, 'housing': 3, 'urban': 3, 'secretary': 2, 'homeless': 1, 'commission': 2, 'manhattan': 1, 'district': 2, \"attorney's\": 1, 'juris': 1, 'fordham': 1, 'www.linkedin.com/in/alliekmiller': 1, \"dean's\": 1, 'prize': 6, 'winner': 2, 'two-year': 1, 'mayer': 1, 'pepsico': 1, 'allie': 9, 'miller': 2, 'follow': 2, 'openings': 1, 'background': 1, 'human-computer': 1, 'interaction': 1, 'advancing': 2, 'youngest-ever': 1, 'spearheading': 1, 'conversation': 1, 'regulation': 1, 'addressed': 1, 'guidebooks': 1, 'educate': 1, 'readwrite': 1, 'mkai': 1, 'mavericks': 1, 'neptune': 1, 'influencers': 1, 'stronger': 1, 'advancement': 2, 'aaas': 1, 'competitions': 1, 'driven': 2, 'quick-witted': 1, 'double': 1, 'certificate': 2, 'three-year': 1, 'studying': 1, 'hello@alliekmiller.com': 1, 'reflect': 1, 'employers': 2, 'case--photo': 1, 'inspections': 1, 'insurance': 1, 'fraud': 1, 'scoped': 1, 'called': 1, 'platforms': 1, 'goodlux': 2, 'boston-based': 1, 'sunsprite': 2, 'device': 1, 'tracks': 1, 'intake': 1, 'treat': 1, 'harvard-trained': 1, 'doctors': 1, 'adding': 1, 'wearable': 1, \"tech's\": 1, 'roster': 1, 'press': 2, 'coverage': 1, 'mashable': 2, 'engadget': 1, 'gigaom': 1, 'atlantic': 1, 'fox': 1, 'sxsw': 1, 'tedmed': 1, 'arnold': 1, 'telepictures': 1, 'nbcuniversal': 1, 'weber': 1, 'shandwick': 1, 'cum': 2, 'laude': 2, 'gender': 1, 'harvard-westlake': 1, 'phillips': 1, 'exeter': 1, 'www.linkedin.com/in/egsands': 1, 'medium.com/teconomics-blog': 1, 'emily': 1, 'glassberg': 1, 'sands': 1, 'labor': 5, 'economist': 1, 'decision-making': 1, 'societal': 1, 'solve': 2, 'inefficiencies': 1, 'attracts': 1, 'tens': 1, 'rewarded': 1, 'scalable': 1, 'transform': 2, 'keep': 1, 'accelerating': 1, 'data-powered': 2, 'reach': 4, 'emily@coursera.org': 2, 'organized': 1, 'groups': 2, 'builds': 2, 'foundations': 1, 'execution': 1, 'lake': 1, 'back-end': 1, 'front-end': 1, 'drives': 1, 'measurement': 2, 'experimentation': 1, 'causal': 1, 'inference': 1, 'algorithmically-powered': 1, 'learner': 1, 'employer-facing': 1, 'scaleable': 1, 'skill': 1, 'benchmarking': 1, 'vastly': 1, 'high-quality': 1, 'credentials': 1, 'positioned': 1, 'fields': 1, 'essays': 1, 'microeconomics': 1, 'quantifying': 1, 'referrals': 1, 'dissertation': 1, 'policy': 1, 'grant': 2, 'bok': 2, 'simon': 1, 'kuznets': 1, 'rita': 1, 'ricardo-campbell': 1, 'semesters': 2, 'seminars': 1, 'exam': 1, 'curricula': 1, 'professors': 1, 'katz': 1, 'claudia': 1, 'goldin': 1, 'marty': 1, 'feldstein': 1, 'liebman': 1, 'summers': 1, 'five-time': 1, 'phi': 2, 'kappa': 2, 'standing': 1, 'halbert': 1, 'staude': 1, 'wolf': 1, 'balleisen': 1, 'memorial': 1, 'summa': 1, 'early-selection': 1, 'shapiro': 1, 'prizes': 1, 'discrimination': 1, 'investigated': 1, 'biotech-pharma': 1, 'quantified': 1, 'stated': 1, 'revealed': 3, 'preferences': 1, 'modeled': 1, 'variation': 1, 'types': 1, 'activities': 1, 'www.linkedin.com/in/narendramodi': 1, 'www.narendramodi.in': 1, 'pmindia.gov.in/en/': 1, 'organisational': 1, 'narendra': 4, 'modi': 4, 'prime': 2, 'minister': 5, 'determined': 1, 'arrives': 1, 'ray': 1, 'indians': 1, 'ability': 1, 'promise': 1, 'prosperous': 1, 'inclusive': 1, 'aspirations': 1, 'gujarat': 7, 'paradigm': 1, 'shift': 1, 'pro-citizen': 1, 'governance': 1, 'reeling': 1, 'aftereffects': 1, 'devastating': 1, 'earthquake': 1, 'contribution': 1, 'domestic': 1, 'thanks': 1, 'instilled': 1, 'loving': 1, 'without': 1, 'spare': 1, 'rupee': 1, 'hardships': 1, 'avoidable': 1, 'sufferings': 1, 'lived': 1, 'principle': 1, 'antyodaya': 1, 'queue': 1, 'age': 1, 'immersed': 1, 'patriotic': 1, 'organisations': 1, 'connect': 1, 'complemented': 1, 'presence': 1, 'techno-savvy': 1, 'forums': 1, 'embodiment': 1, 'courage': 1, 'conviction': 1, 'bestowed': 1, 'mandate': 1, 'hoping': 1, 'rejuvenate': 1, 'beacon': 1, 'gandhinagar': 1, 'priyanjitkumarghosh': 1, '@gmail': 1, 'om': 1, 'www.linkedin.com/in/priyanjitghosh': 1, 'codevector.in': 1, 'finalist': 1, 'gsea': 1, 'runners': 2, 'worldcup': 1, 'tomorrow': 1, 'xencom': 1, 'auto': 1, 'irrigation': 1, 'priyanjit': 2, 'ghosh': 1, 'affordable': 1, 'codevector': 3, 'smes': 2, 'enterprises': 3, 'workflow': 1, 'consults': 1, 'strategize': 1, 'co-founded': 2, 'logy.ai': 2, 'diagnosis': 1, 'democratizing': 1, 'rapid': 1, 'telangana': 1, 'manufacturing': 2, 'raipur': 2, 'chattisgarh': 1, 'diagnostics': 3, 'singapore': 2, 'nadu': 2, 'e-governance': 1, 'youngminds': 1, 'initiator': 1, 'ym': 1, 'believes': 1, 'peer-based': 1, 'mentors': 1, 'wants': 2, 'exactly': 1, 'sure': 1, 'pgdm': 1, 'www.linkedin.com/in/tarrysingh': 1, 'tarrysingh.com': 1, 'github.com/tarrysingh': 1, 'deepkapha.ai': 8, 'dutch': 2, 'hacking': 2, 'vmware': 1, 'vexpert': 1, 'solvency': 1, 'informatie': 1, 'noodzaak': 1, 'voor': 1, 'europese': 1, 'verzekeraars': 1, 'metering': 1, 'clouds': 1, 'oracle': 2, 'virtualization': 2, 'threaten': 1, 'compliance': 1, 'steps': 1, 'protection': 1, 'tarry': 5, 'singh': 2, 'liveai': 6, 'curae.ai': 3, 'groningen': 5, 'twitter.com/tarrysingh': 1, 'instagram.com/tarrysingh': 1, 'https://tarrysingh.com': 1, 'https://github.com/tarrysingh': 1, 'rounded': 1, 'obsessed': 1, 'multicultural': 1, 'nationalities': 1, 'brazil': 1, '#china': 1, '#japan': 1, 'europe': 3, 'sme': 1, 'internationally': 1, 'acknowledged': 2, 'organizationally': 1, 'sensitive': 1, 'subjective': 1, 'relentlessly': 2, 'organizational': 1, 'genuinely': 1, 'interested': 1, 'coworkers': 1, 'c-level': 2, 'strive': 1, 'empathic': 1, 'authored': 1, 'ieee': 1, 'acm': 1, 'proud': 1, 'ngos': 1, 'un': 1, 'vc': 1, 'pes': 1, 'amsterdam': 5, 'holland': 1, 'netherlands': 7, 'edtech': 1, 'foke': 1, 'van': 1, 'der': 1, 'helm': 1, 'share': 1, 'multiply': 1, 'demanded': 1, 'accommodate': 1, 'demand': 1, 'immense': 2, 'workshops': 1, 'blended': 1, 'learners': 2, 'discovered': 1, 'intrinsic': 1, 'hands-on': 1, 'seasoned': 2, 'guidance': 1, 'instructors': 1, 'hand-picked': 1, 'mastery': 1, 'in-demand': 1, 'aspiring': 1, 'worlds': 1, 'hunger': 1, 'really': 1, 'dl': 2, 'managers': 1, 'architects': 1, 'step': 2, 'inner': 1, 'workings': 1, 'groundbreaking': 1, 'automotives': 1, 'telecom': 1, 'arms': 1, '::': 3, 'wo': 1, 'scale-ups': 1, 'tangible': 2, 'roi': 1, '#deeprrp': 1, 'remote': 1, 'residency': 1, 'upcoming': 1, 'enthusiasts': 1, 'desire': 1, 'hult': 1, 'turkey': 1, 'iraq': 1, 'syria': 1, 'behind': 1, 'fireside': 1, 'chats': 1, 'vehicle': 1, 'conputational': 1, 'healthtech': 1, 'interviewed': 1, 'regularly': 1, 'al-jazeera': 1, 'associated': 1, 'agenda': 1, 'race': 1, 'stealth': 1, 'pronounced': 1, 'kooraaey-dot-ai': 1, 'ℝeal': 1, 'https://deepkapha.ai/ai-': 1, 'basket': 1, 'hospitals': 2, 'seekers': 1, 'faster': 1, 'reducing': 1, 'costs': 1, 'dramatically': 1, 'announce': 1, 'aih': 1, 'considerable': 1, 'allocated': 1, 'potential': 1, 'yet': 2, 'complexity': 1, 'difficult': 1, 'strengths': 1, 'weaknesses': 1, 'limitations': 1, 'poorly': 1, 'underlying': 1, 'incomplete': 1, 'errors': 1, 'confidence': 1, 'controlled': 1, 'standardized': 1, 'standard': 1, 'assessment': 2, 'itu': 1, 'fg-aih': 2, 'thus': 1, 'cardiovascular': 1, 'dermatology': 1, 'falls': 1, 'elderly': 1, 'histopathology': 1, 'neuro-cognitive': 1, 'ophthalmology': 1, 'retinal': 1, 'imaging': 1, 'psychiatry': 1, 'radiotherapy': 1, 'snakebite': 1, 'snake': 1, 'identification': 1, 'symptom': 1, 'tuberculosis': 1, 'volumetric': 1, 'chest': 1, 'computed': 1, 'tomography': 1, 'dental': 1, 'dentistry': 1, 'texas': 2, 'dallas': 2, 'visiting': 1, 'tas': 1, 'hard-core': 1, 'bootcamps': 1, 'conduct': 1, 'hackathons': 1, 'compressed': 1, 'relevant': 2, 'fostering': 1, 'placements': 1, 'cognitiveworld.com': 1, 'write': 1, 'frequently': 1, 'domains': 1, 'employment': 1, 'pa': 1, 'cxos': 1, 'cfo': 1, 'cio': 1, 'cdo': 1, 'blue': 1, 'uniquely': 1, 'deploying': 1, 'lean': 1, 'real-world': 1, 'multipliers': 2, 'envisioning': 1, 'playbook': 1, 'realistic': 1, 'pilots': 1, 'mm': 1, 'iot': 1, 'org': 1, 'setup': 1, 'networking': 2, 'reorganise': 1, 'restructure': 1, 'smb': 1, 'specs': 1, 'sharepoint': 1, 'paas': 2, 'iaas': 2, 'qs': 1, 'ecosystem': 1, 'continental': 1, 'f': 1, 'complex': 1, 'achieving': 1, 'sustained': 1, 'savings': 1, 'total': 1, 'deals': 1, '€': 6, 'bn': 4, 'spend': 1, 'ranging': 3, 'revenues': 1, 'atos': 1, 'utrecht': 1, 'virt': 1, 'win': 1, 'cxo': 1, 'pertaining': 1, 'on-prem': 1, 'responsibilities': 1, 'emea': 1, 'apac': 1, 'executives': 1, 'transition': 1, 'hanzehogeschool': 1, 'hanze': 1, 'middleware': 2, 'supplier': 2, 'nuffic': 1, 'uganda': 1, 'wagenborg': 1, 'dba': 1, 'operational': 1, 'edi': 1, 'inventory': 1, 'maintenance': 2, 'onboard': 1, 'vessels': 1, 'offshore': 1, 'installations': 1, 'worth': 1, 'establish': 1, 'procurement': 1, 'micromasters': 1, 'completing': 1, 'eventually': 1, 'elsewhere': 1, 'dphil': 1, 'equiv': 1, 'maritime': 1, 'nautical': 1, 'astronomy': 1, 'kendriya': 1, 'vidyalaya': 1, 'vwo': 1}\n"
          ],
          "name": "stdout"
        }
      ]
    },
    {
      "cell_type": "markdown",
      "metadata": {
        "id": "d6TCOwgQgHaT",
        "colab_type": "text"
      },
      "source": [
        "**To find top k frequency words in the corpus**"
      ]
    },
    {
      "cell_type": "code",
      "metadata": {
        "id": "cMaYwEzzPr5P",
        "colab_type": "code",
        "colab": {}
      },
      "source": [
        "# Creating 2 seperate lists for the keys and values of the frequency dict\n",
        "val = []                            # List of \n",
        "for i in frequency.values():\n",
        "  val.append(i)\n",
        "\n",
        "key = []\n",
        "for j in frequency.keys():\n",
        "  key.append(j)  "
      ],
      "execution_count": 203,
      "outputs": []
    },
    {
      "cell_type": "code",
      "metadata": {
        "id": "VucVf0ceTToC",
        "colab_type": "code",
        "colab": {
          "base_uri": "https://localhost:8080/",
          "height": 385
        },
        "outputId": "2e0dce8b-fd1d-4d6d-e27b-8e026f26150c"
      },
      "source": [
        "# heapq library is used to get top k elements from a list\n",
        "import heapq\n",
        "k = 20\n",
        "top_k = heapq.nlargest(k, val)\n",
        "\n",
        "print(f'Top {k} words are give below:')\n",
        "print('\\033[1mWord | Frequency of that word \\033[0m')\n",
        "for i in top_k:\n",
        "  index = val.index(i)\n",
        "  print(key[index],':',i)"
      ],
      "execution_count": 204,
      "outputs": [
        {
          "output_type": "stream",
          "text": [
            "Top 20 words are give below:\n",
            "\u001b[1mWord | Frequency of that word \u001b[0m\n",
            "months : 252\n",
            "years : 215\n",
            "page : 139\n",
            "data : 124\n",
            "new : 123\n",
            "research : 122\n",
            "learning : 118\n",
            "present : 107\n",
            "university : 103\n",
            "year : 97\n",
            "year : 97\n",
            "science : 95\n",
            "science : 95\n",
            "area : 93\n",
            "york : 85\n",
            "september : 82\n",
            "business : 74\n",
            "business : 74\n",
            "business : 74\n",
            "computer : 71\n"
          ],
          "name": "stdout"
        }
      ]
    },
    {
      "cell_type": "code",
      "metadata": {
        "id": "sihBtDkZXM1R",
        "colab_type": "code",
        "colab": {}
      },
      "source": [
        ""
      ],
      "execution_count": 204,
      "outputs": []
    },
    {
      "cell_type": "markdown",
      "metadata": {
        "id": "rbWdhW8FufqK",
        "colab_type": "text"
      },
      "source": [
        "## **Task 4**"
      ]
    },
    {
      "cell_type": "markdown",
      "metadata": {
        "id": "InIJykaUuiZC",
        "colab_type": "text"
      },
      "source": [
        "I do not have any experience in web app development. Thus I could not finish the the 4th task."
      ]
    },
    {
      "cell_type": "code",
      "metadata": {
        "id": "tVPxhZKmuhcZ",
        "colab_type": "code",
        "colab": {}
      },
      "source": [
        ""
      ],
      "execution_count": null,
      "outputs": []
    }
  ]
}